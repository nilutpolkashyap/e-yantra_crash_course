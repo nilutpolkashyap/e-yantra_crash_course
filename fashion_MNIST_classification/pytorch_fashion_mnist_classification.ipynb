{
  "nbformat": 4,
  "nbformat_minor": 0,
  "metadata": {
    "colab": {
      "name": "pytorch_fashion_mnist_classification",
      "provenance": [],
      "collapsed_sections": [],
      "toc_visible": true,
      "authorship_tag": "ABX9TyMWsMpsqiQwi+pLvemz+M6m",
      "include_colab_link": true
    },
    "kernelspec": {
      "name": "python3",
      "display_name": "Python 3"
    },
    "widgets": {
      "application/vnd.jupyter.widget-state+json": {
        "f8b7b4d1b7764aada935713ed2eedf5d": {
          "model_module": "@jupyter-widgets/controls",
          "model_name": "HBoxModel",
          "model_module_version": "1.5.0",
          "state": {
            "_view_name": "HBoxView",
            "_dom_classes": [],
            "_model_name": "HBoxModel",
            "_view_module": "@jupyter-widgets/controls",
            "_model_module_version": "1.5.0",
            "_view_count": null,
            "_view_module_version": "1.5.0",
            "box_style": "",
            "layout": "IPY_MODEL_e7ad5aab7d0245c9ba5ade91d5e7bae4",
            "_model_module": "@jupyter-widgets/controls",
            "children": [
              "IPY_MODEL_fed890483d494a1aa8031e53afd65c96",
              "IPY_MODEL_0e407cd7f95d4b28adbdc09578029e1f",
              "IPY_MODEL_2acb69bd4a6348a49f50166da31b0339"
            ]
          }
        },
        "e7ad5aab7d0245c9ba5ade91d5e7bae4": {
          "model_module": "@jupyter-widgets/base",
          "model_name": "LayoutModel",
          "model_module_version": "1.2.0",
          "state": {
            "_view_name": "LayoutView",
            "grid_template_rows": null,
            "right": null,
            "justify_content": null,
            "_view_module": "@jupyter-widgets/base",
            "overflow": null,
            "_model_module_version": "1.2.0",
            "_view_count": null,
            "flex_flow": null,
            "width": null,
            "min_width": null,
            "border": null,
            "align_items": null,
            "bottom": null,
            "_model_module": "@jupyter-widgets/base",
            "top": null,
            "grid_column": null,
            "overflow_y": null,
            "overflow_x": null,
            "grid_auto_flow": null,
            "grid_area": null,
            "grid_template_columns": null,
            "flex": null,
            "_model_name": "LayoutModel",
            "justify_items": null,
            "grid_row": null,
            "max_height": null,
            "align_content": null,
            "visibility": null,
            "align_self": null,
            "height": null,
            "min_height": null,
            "padding": null,
            "grid_auto_rows": null,
            "grid_gap": null,
            "max_width": null,
            "order": null,
            "_view_module_version": "1.2.0",
            "grid_template_areas": null,
            "object_position": null,
            "object_fit": null,
            "grid_auto_columns": null,
            "margin": null,
            "display": null,
            "left": null
          }
        },
        "fed890483d494a1aa8031e53afd65c96": {
          "model_module": "@jupyter-widgets/controls",
          "model_name": "HTMLModel",
          "model_module_version": "1.5.0",
          "state": {
            "_view_name": "HTMLView",
            "style": "IPY_MODEL_e96b47c862ee43599f10a763eeb160f6",
            "_dom_classes": [],
            "description": "",
            "_model_name": "HTMLModel",
            "placeholder": "​",
            "_view_module": "@jupyter-widgets/controls",
            "_model_module_version": "1.5.0",
            "value": "",
            "_view_count": null,
            "_view_module_version": "1.5.0",
            "description_tooltip": null,
            "_model_module": "@jupyter-widgets/controls",
            "layout": "IPY_MODEL_113c31a3c5cb4a03b56f69b933eee9c2"
          }
        },
        "0e407cd7f95d4b28adbdc09578029e1f": {
          "model_module": "@jupyter-widgets/controls",
          "model_name": "FloatProgressModel",
          "model_module_version": "1.5.0",
          "state": {
            "_view_name": "ProgressView",
            "style": "IPY_MODEL_1d5a8b08eb384ffa820806eb5de28a21",
            "_dom_classes": [],
            "description": "",
            "_model_name": "FloatProgressModel",
            "bar_style": "success",
            "max": 26421880,
            "_view_module": "@jupyter-widgets/controls",
            "_model_module_version": "1.5.0",
            "value": 26421880,
            "_view_count": null,
            "_view_module_version": "1.5.0",
            "orientation": "horizontal",
            "min": 0,
            "description_tooltip": null,
            "_model_module": "@jupyter-widgets/controls",
            "layout": "IPY_MODEL_a8b1b090ac3b45d9bcb50a4ee0e45d70"
          }
        },
        "2acb69bd4a6348a49f50166da31b0339": {
          "model_module": "@jupyter-widgets/controls",
          "model_name": "HTMLModel",
          "model_module_version": "1.5.0",
          "state": {
            "_view_name": "HTMLView",
            "style": "IPY_MODEL_16b0594ce9e14d6cb607c33a58ef4661",
            "_dom_classes": [],
            "description": "",
            "_model_name": "HTMLModel",
            "placeholder": "​",
            "_view_module": "@jupyter-widgets/controls",
            "_model_module_version": "1.5.0",
            "value": " 26422272/? [00:02&lt;00:00, 18903978.66it/s]",
            "_view_count": null,
            "_view_module_version": "1.5.0",
            "description_tooltip": null,
            "_model_module": "@jupyter-widgets/controls",
            "layout": "IPY_MODEL_62094f271200487ca98960850492eac3"
          }
        },
        "e96b47c862ee43599f10a763eeb160f6": {
          "model_module": "@jupyter-widgets/controls",
          "model_name": "DescriptionStyleModel",
          "model_module_version": "1.5.0",
          "state": {
            "_view_name": "StyleView",
            "_model_name": "DescriptionStyleModel",
            "description_width": "",
            "_view_module": "@jupyter-widgets/base",
            "_model_module_version": "1.5.0",
            "_view_count": null,
            "_view_module_version": "1.2.0",
            "_model_module": "@jupyter-widgets/controls"
          }
        },
        "113c31a3c5cb4a03b56f69b933eee9c2": {
          "model_module": "@jupyter-widgets/base",
          "model_name": "LayoutModel",
          "model_module_version": "1.2.0",
          "state": {
            "_view_name": "LayoutView",
            "grid_template_rows": null,
            "right": null,
            "justify_content": null,
            "_view_module": "@jupyter-widgets/base",
            "overflow": null,
            "_model_module_version": "1.2.0",
            "_view_count": null,
            "flex_flow": null,
            "width": null,
            "min_width": null,
            "border": null,
            "align_items": null,
            "bottom": null,
            "_model_module": "@jupyter-widgets/base",
            "top": null,
            "grid_column": null,
            "overflow_y": null,
            "overflow_x": null,
            "grid_auto_flow": null,
            "grid_area": null,
            "grid_template_columns": null,
            "flex": null,
            "_model_name": "LayoutModel",
            "justify_items": null,
            "grid_row": null,
            "max_height": null,
            "align_content": null,
            "visibility": null,
            "align_self": null,
            "height": null,
            "min_height": null,
            "padding": null,
            "grid_auto_rows": null,
            "grid_gap": null,
            "max_width": null,
            "order": null,
            "_view_module_version": "1.2.0",
            "grid_template_areas": null,
            "object_position": null,
            "object_fit": null,
            "grid_auto_columns": null,
            "margin": null,
            "display": null,
            "left": null
          }
        },
        "1d5a8b08eb384ffa820806eb5de28a21": {
          "model_module": "@jupyter-widgets/controls",
          "model_name": "ProgressStyleModel",
          "model_module_version": "1.5.0",
          "state": {
            "_view_name": "StyleView",
            "_model_name": "ProgressStyleModel",
            "description_width": "",
            "_view_module": "@jupyter-widgets/base",
            "_model_module_version": "1.5.0",
            "_view_count": null,
            "_view_module_version": "1.2.0",
            "bar_color": null,
            "_model_module": "@jupyter-widgets/controls"
          }
        },
        "a8b1b090ac3b45d9bcb50a4ee0e45d70": {
          "model_module": "@jupyter-widgets/base",
          "model_name": "LayoutModel",
          "model_module_version": "1.2.0",
          "state": {
            "_view_name": "LayoutView",
            "grid_template_rows": null,
            "right": null,
            "justify_content": null,
            "_view_module": "@jupyter-widgets/base",
            "overflow": null,
            "_model_module_version": "1.2.0",
            "_view_count": null,
            "flex_flow": null,
            "width": null,
            "min_width": null,
            "border": null,
            "align_items": null,
            "bottom": null,
            "_model_module": "@jupyter-widgets/base",
            "top": null,
            "grid_column": null,
            "overflow_y": null,
            "overflow_x": null,
            "grid_auto_flow": null,
            "grid_area": null,
            "grid_template_columns": null,
            "flex": null,
            "_model_name": "LayoutModel",
            "justify_items": null,
            "grid_row": null,
            "max_height": null,
            "align_content": null,
            "visibility": null,
            "align_self": null,
            "height": null,
            "min_height": null,
            "padding": null,
            "grid_auto_rows": null,
            "grid_gap": null,
            "max_width": null,
            "order": null,
            "_view_module_version": "1.2.0",
            "grid_template_areas": null,
            "object_position": null,
            "object_fit": null,
            "grid_auto_columns": null,
            "margin": null,
            "display": null,
            "left": null
          }
        },
        "16b0594ce9e14d6cb607c33a58ef4661": {
          "model_module": "@jupyter-widgets/controls",
          "model_name": "DescriptionStyleModel",
          "model_module_version": "1.5.0",
          "state": {
            "_view_name": "StyleView",
            "_model_name": "DescriptionStyleModel",
            "description_width": "",
            "_view_module": "@jupyter-widgets/base",
            "_model_module_version": "1.5.0",
            "_view_count": null,
            "_view_module_version": "1.2.0",
            "_model_module": "@jupyter-widgets/controls"
          }
        },
        "62094f271200487ca98960850492eac3": {
          "model_module": "@jupyter-widgets/base",
          "model_name": "LayoutModel",
          "model_module_version": "1.2.0",
          "state": {
            "_view_name": "LayoutView",
            "grid_template_rows": null,
            "right": null,
            "justify_content": null,
            "_view_module": "@jupyter-widgets/base",
            "overflow": null,
            "_model_module_version": "1.2.0",
            "_view_count": null,
            "flex_flow": null,
            "width": null,
            "min_width": null,
            "border": null,
            "align_items": null,
            "bottom": null,
            "_model_module": "@jupyter-widgets/base",
            "top": null,
            "grid_column": null,
            "overflow_y": null,
            "overflow_x": null,
            "grid_auto_flow": null,
            "grid_area": null,
            "grid_template_columns": null,
            "flex": null,
            "_model_name": "LayoutModel",
            "justify_items": null,
            "grid_row": null,
            "max_height": null,
            "align_content": null,
            "visibility": null,
            "align_self": null,
            "height": null,
            "min_height": null,
            "padding": null,
            "grid_auto_rows": null,
            "grid_gap": null,
            "max_width": null,
            "order": null,
            "_view_module_version": "1.2.0",
            "grid_template_areas": null,
            "object_position": null,
            "object_fit": null,
            "grid_auto_columns": null,
            "margin": null,
            "display": null,
            "left": null
          }
        },
        "150699d80d9a4fee8d48fc6c8c7af251": {
          "model_module": "@jupyter-widgets/controls",
          "model_name": "HBoxModel",
          "model_module_version": "1.5.0",
          "state": {
            "_view_name": "HBoxView",
            "_dom_classes": [],
            "_model_name": "HBoxModel",
            "_view_module": "@jupyter-widgets/controls",
            "_model_module_version": "1.5.0",
            "_view_count": null,
            "_view_module_version": "1.5.0",
            "box_style": "",
            "layout": "IPY_MODEL_aa09fa1625f44d56825d410974839ddb",
            "_model_module": "@jupyter-widgets/controls",
            "children": [
              "IPY_MODEL_41554fc9eb884638a6562954ce6d2011",
              "IPY_MODEL_3eff7f05812949fcbd9e3662e3484555",
              "IPY_MODEL_1037cd56b1df4bd99c3c1b7edfbbaf16"
            ]
          }
        },
        "aa09fa1625f44d56825d410974839ddb": {
          "model_module": "@jupyter-widgets/base",
          "model_name": "LayoutModel",
          "model_module_version": "1.2.0",
          "state": {
            "_view_name": "LayoutView",
            "grid_template_rows": null,
            "right": null,
            "justify_content": null,
            "_view_module": "@jupyter-widgets/base",
            "overflow": null,
            "_model_module_version": "1.2.0",
            "_view_count": null,
            "flex_flow": null,
            "width": null,
            "min_width": null,
            "border": null,
            "align_items": null,
            "bottom": null,
            "_model_module": "@jupyter-widgets/base",
            "top": null,
            "grid_column": null,
            "overflow_y": null,
            "overflow_x": null,
            "grid_auto_flow": null,
            "grid_area": null,
            "grid_template_columns": null,
            "flex": null,
            "_model_name": "LayoutModel",
            "justify_items": null,
            "grid_row": null,
            "max_height": null,
            "align_content": null,
            "visibility": null,
            "align_self": null,
            "height": null,
            "min_height": null,
            "padding": null,
            "grid_auto_rows": null,
            "grid_gap": null,
            "max_width": null,
            "order": null,
            "_view_module_version": "1.2.0",
            "grid_template_areas": null,
            "object_position": null,
            "object_fit": null,
            "grid_auto_columns": null,
            "margin": null,
            "display": null,
            "left": null
          }
        },
        "41554fc9eb884638a6562954ce6d2011": {
          "model_module": "@jupyter-widgets/controls",
          "model_name": "HTMLModel",
          "model_module_version": "1.5.0",
          "state": {
            "_view_name": "HTMLView",
            "style": "IPY_MODEL_b803274fef814fa194bd8ce988b68fea",
            "_dom_classes": [],
            "description": "",
            "_model_name": "HTMLModel",
            "placeholder": "​",
            "_view_module": "@jupyter-widgets/controls",
            "_model_module_version": "1.5.0",
            "value": "",
            "_view_count": null,
            "_view_module_version": "1.5.0",
            "description_tooltip": null,
            "_model_module": "@jupyter-widgets/controls",
            "layout": "IPY_MODEL_99fcd1fbc16446e2ac25785ba5a2fe13"
          }
        },
        "3eff7f05812949fcbd9e3662e3484555": {
          "model_module": "@jupyter-widgets/controls",
          "model_name": "FloatProgressModel",
          "model_module_version": "1.5.0",
          "state": {
            "_view_name": "ProgressView",
            "style": "IPY_MODEL_c14ec79d8e1041ffbea0049b4fe75bb7",
            "_dom_classes": [],
            "description": "",
            "_model_name": "FloatProgressModel",
            "bar_style": "success",
            "max": 29515,
            "_view_module": "@jupyter-widgets/controls",
            "_model_module_version": "1.5.0",
            "value": 29515,
            "_view_count": null,
            "_view_module_version": "1.5.0",
            "orientation": "horizontal",
            "min": 0,
            "description_tooltip": null,
            "_model_module": "@jupyter-widgets/controls",
            "layout": "IPY_MODEL_474c42ecd8be4ff0a5c6495f8f5f5edc"
          }
        },
        "1037cd56b1df4bd99c3c1b7edfbbaf16": {
          "model_module": "@jupyter-widgets/controls",
          "model_name": "HTMLModel",
          "model_module_version": "1.5.0",
          "state": {
            "_view_name": "HTMLView",
            "style": "IPY_MODEL_87b1aa898fbc43d2be41dd86f84b85b8",
            "_dom_classes": [],
            "description": "",
            "_model_name": "HTMLModel",
            "placeholder": "​",
            "_view_module": "@jupyter-widgets/controls",
            "_model_module_version": "1.5.0",
            "value": " 29696/? [00:00&lt;00:00, 120007.79it/s]",
            "_view_count": null,
            "_view_module_version": "1.5.0",
            "description_tooltip": null,
            "_model_module": "@jupyter-widgets/controls",
            "layout": "IPY_MODEL_b42ae00f3dc24c528dbef52ec8f39b12"
          }
        },
        "b803274fef814fa194bd8ce988b68fea": {
          "model_module": "@jupyter-widgets/controls",
          "model_name": "DescriptionStyleModel",
          "model_module_version": "1.5.0",
          "state": {
            "_view_name": "StyleView",
            "_model_name": "DescriptionStyleModel",
            "description_width": "",
            "_view_module": "@jupyter-widgets/base",
            "_model_module_version": "1.5.0",
            "_view_count": null,
            "_view_module_version": "1.2.0",
            "_model_module": "@jupyter-widgets/controls"
          }
        },
        "99fcd1fbc16446e2ac25785ba5a2fe13": {
          "model_module": "@jupyter-widgets/base",
          "model_name": "LayoutModel",
          "model_module_version": "1.2.0",
          "state": {
            "_view_name": "LayoutView",
            "grid_template_rows": null,
            "right": null,
            "justify_content": null,
            "_view_module": "@jupyter-widgets/base",
            "overflow": null,
            "_model_module_version": "1.2.0",
            "_view_count": null,
            "flex_flow": null,
            "width": null,
            "min_width": null,
            "border": null,
            "align_items": null,
            "bottom": null,
            "_model_module": "@jupyter-widgets/base",
            "top": null,
            "grid_column": null,
            "overflow_y": null,
            "overflow_x": null,
            "grid_auto_flow": null,
            "grid_area": null,
            "grid_template_columns": null,
            "flex": null,
            "_model_name": "LayoutModel",
            "justify_items": null,
            "grid_row": null,
            "max_height": null,
            "align_content": null,
            "visibility": null,
            "align_self": null,
            "height": null,
            "min_height": null,
            "padding": null,
            "grid_auto_rows": null,
            "grid_gap": null,
            "max_width": null,
            "order": null,
            "_view_module_version": "1.2.0",
            "grid_template_areas": null,
            "object_position": null,
            "object_fit": null,
            "grid_auto_columns": null,
            "margin": null,
            "display": null,
            "left": null
          }
        },
        "c14ec79d8e1041ffbea0049b4fe75bb7": {
          "model_module": "@jupyter-widgets/controls",
          "model_name": "ProgressStyleModel",
          "model_module_version": "1.5.0",
          "state": {
            "_view_name": "StyleView",
            "_model_name": "ProgressStyleModel",
            "description_width": "",
            "_view_module": "@jupyter-widgets/base",
            "_model_module_version": "1.5.0",
            "_view_count": null,
            "_view_module_version": "1.2.0",
            "bar_color": null,
            "_model_module": "@jupyter-widgets/controls"
          }
        },
        "474c42ecd8be4ff0a5c6495f8f5f5edc": {
          "model_module": "@jupyter-widgets/base",
          "model_name": "LayoutModel",
          "model_module_version": "1.2.0",
          "state": {
            "_view_name": "LayoutView",
            "grid_template_rows": null,
            "right": null,
            "justify_content": null,
            "_view_module": "@jupyter-widgets/base",
            "overflow": null,
            "_model_module_version": "1.2.0",
            "_view_count": null,
            "flex_flow": null,
            "width": null,
            "min_width": null,
            "border": null,
            "align_items": null,
            "bottom": null,
            "_model_module": "@jupyter-widgets/base",
            "top": null,
            "grid_column": null,
            "overflow_y": null,
            "overflow_x": null,
            "grid_auto_flow": null,
            "grid_area": null,
            "grid_template_columns": null,
            "flex": null,
            "_model_name": "LayoutModel",
            "justify_items": null,
            "grid_row": null,
            "max_height": null,
            "align_content": null,
            "visibility": null,
            "align_self": null,
            "height": null,
            "min_height": null,
            "padding": null,
            "grid_auto_rows": null,
            "grid_gap": null,
            "max_width": null,
            "order": null,
            "_view_module_version": "1.2.0",
            "grid_template_areas": null,
            "object_position": null,
            "object_fit": null,
            "grid_auto_columns": null,
            "margin": null,
            "display": null,
            "left": null
          }
        },
        "87b1aa898fbc43d2be41dd86f84b85b8": {
          "model_module": "@jupyter-widgets/controls",
          "model_name": "DescriptionStyleModel",
          "model_module_version": "1.5.0",
          "state": {
            "_view_name": "StyleView",
            "_model_name": "DescriptionStyleModel",
            "description_width": "",
            "_view_module": "@jupyter-widgets/base",
            "_model_module_version": "1.5.0",
            "_view_count": null,
            "_view_module_version": "1.2.0",
            "_model_module": "@jupyter-widgets/controls"
          }
        },
        "b42ae00f3dc24c528dbef52ec8f39b12": {
          "model_module": "@jupyter-widgets/base",
          "model_name": "LayoutModel",
          "model_module_version": "1.2.0",
          "state": {
            "_view_name": "LayoutView",
            "grid_template_rows": null,
            "right": null,
            "justify_content": null,
            "_view_module": "@jupyter-widgets/base",
            "overflow": null,
            "_model_module_version": "1.2.0",
            "_view_count": null,
            "flex_flow": null,
            "width": null,
            "min_width": null,
            "border": null,
            "align_items": null,
            "bottom": null,
            "_model_module": "@jupyter-widgets/base",
            "top": null,
            "grid_column": null,
            "overflow_y": null,
            "overflow_x": null,
            "grid_auto_flow": null,
            "grid_area": null,
            "grid_template_columns": null,
            "flex": null,
            "_model_name": "LayoutModel",
            "justify_items": null,
            "grid_row": null,
            "max_height": null,
            "align_content": null,
            "visibility": null,
            "align_self": null,
            "height": null,
            "min_height": null,
            "padding": null,
            "grid_auto_rows": null,
            "grid_gap": null,
            "max_width": null,
            "order": null,
            "_view_module_version": "1.2.0",
            "grid_template_areas": null,
            "object_position": null,
            "object_fit": null,
            "grid_auto_columns": null,
            "margin": null,
            "display": null,
            "left": null
          }
        },
        "7fb6e17c20d34434be17e329612f910a": {
          "model_module": "@jupyter-widgets/controls",
          "model_name": "HBoxModel",
          "model_module_version": "1.5.0",
          "state": {
            "_view_name": "HBoxView",
            "_dom_classes": [],
            "_model_name": "HBoxModel",
            "_view_module": "@jupyter-widgets/controls",
            "_model_module_version": "1.5.0",
            "_view_count": null,
            "_view_module_version": "1.5.0",
            "box_style": "",
            "layout": "IPY_MODEL_283b0bfa708b4fa5a9d3a4829809ee02",
            "_model_module": "@jupyter-widgets/controls",
            "children": [
              "IPY_MODEL_82c70065cd7b48ac94fa2e755f07a16e",
              "IPY_MODEL_7d4310d99fcf4b90a2e10f85a07c77aa",
              "IPY_MODEL_47f6ead525314f03821ea9ace05c529f"
            ]
          }
        },
        "283b0bfa708b4fa5a9d3a4829809ee02": {
          "model_module": "@jupyter-widgets/base",
          "model_name": "LayoutModel",
          "model_module_version": "1.2.0",
          "state": {
            "_view_name": "LayoutView",
            "grid_template_rows": null,
            "right": null,
            "justify_content": null,
            "_view_module": "@jupyter-widgets/base",
            "overflow": null,
            "_model_module_version": "1.2.0",
            "_view_count": null,
            "flex_flow": null,
            "width": null,
            "min_width": null,
            "border": null,
            "align_items": null,
            "bottom": null,
            "_model_module": "@jupyter-widgets/base",
            "top": null,
            "grid_column": null,
            "overflow_y": null,
            "overflow_x": null,
            "grid_auto_flow": null,
            "grid_area": null,
            "grid_template_columns": null,
            "flex": null,
            "_model_name": "LayoutModel",
            "justify_items": null,
            "grid_row": null,
            "max_height": null,
            "align_content": null,
            "visibility": null,
            "align_self": null,
            "height": null,
            "min_height": null,
            "padding": null,
            "grid_auto_rows": null,
            "grid_gap": null,
            "max_width": null,
            "order": null,
            "_view_module_version": "1.2.0",
            "grid_template_areas": null,
            "object_position": null,
            "object_fit": null,
            "grid_auto_columns": null,
            "margin": null,
            "display": null,
            "left": null
          }
        },
        "82c70065cd7b48ac94fa2e755f07a16e": {
          "model_module": "@jupyter-widgets/controls",
          "model_name": "HTMLModel",
          "model_module_version": "1.5.0",
          "state": {
            "_view_name": "HTMLView",
            "style": "IPY_MODEL_9b49f5a3654847de88c0956fc9c1e1fd",
            "_dom_classes": [],
            "description": "",
            "_model_name": "HTMLModel",
            "placeholder": "​",
            "_view_module": "@jupyter-widgets/controls",
            "_model_module_version": "1.5.0",
            "value": "",
            "_view_count": null,
            "_view_module_version": "1.5.0",
            "description_tooltip": null,
            "_model_module": "@jupyter-widgets/controls",
            "layout": "IPY_MODEL_8bf8efec6b9049a7ab5d4059e9969060"
          }
        },
        "7d4310d99fcf4b90a2e10f85a07c77aa": {
          "model_module": "@jupyter-widgets/controls",
          "model_name": "FloatProgressModel",
          "model_module_version": "1.5.0",
          "state": {
            "_view_name": "ProgressView",
            "style": "IPY_MODEL_1fb40718ee274bc7896b30abb5699e3f",
            "_dom_classes": [],
            "description": "",
            "_model_name": "FloatProgressModel",
            "bar_style": "success",
            "max": 4422102,
            "_view_module": "@jupyter-widgets/controls",
            "_model_module_version": "1.5.0",
            "value": 4422102,
            "_view_count": null,
            "_view_module_version": "1.5.0",
            "orientation": "horizontal",
            "min": 0,
            "description_tooltip": null,
            "_model_module": "@jupyter-widgets/controls",
            "layout": "IPY_MODEL_74a3c24c97134bc3bfdc5fc14da03fd8"
          }
        },
        "47f6ead525314f03821ea9ace05c529f": {
          "model_module": "@jupyter-widgets/controls",
          "model_name": "HTMLModel",
          "model_module_version": "1.5.0",
          "state": {
            "_view_name": "HTMLView",
            "style": "IPY_MODEL_36b1df2f14834895a426c6de5071b49c",
            "_dom_classes": [],
            "description": "",
            "_model_name": "HTMLModel",
            "placeholder": "​",
            "_view_module": "@jupyter-widgets/controls",
            "_model_module_version": "1.5.0",
            "value": " 4422656/? [00:00&lt;00:00, 6478847.67it/s]",
            "_view_count": null,
            "_view_module_version": "1.5.0",
            "description_tooltip": null,
            "_model_module": "@jupyter-widgets/controls",
            "layout": "IPY_MODEL_ccbbad00d9944f8292f0e45f7a79863e"
          }
        },
        "9b49f5a3654847de88c0956fc9c1e1fd": {
          "model_module": "@jupyter-widgets/controls",
          "model_name": "DescriptionStyleModel",
          "model_module_version": "1.5.0",
          "state": {
            "_view_name": "StyleView",
            "_model_name": "DescriptionStyleModel",
            "description_width": "",
            "_view_module": "@jupyter-widgets/base",
            "_model_module_version": "1.5.0",
            "_view_count": null,
            "_view_module_version": "1.2.0",
            "_model_module": "@jupyter-widgets/controls"
          }
        },
        "8bf8efec6b9049a7ab5d4059e9969060": {
          "model_module": "@jupyter-widgets/base",
          "model_name": "LayoutModel",
          "model_module_version": "1.2.0",
          "state": {
            "_view_name": "LayoutView",
            "grid_template_rows": null,
            "right": null,
            "justify_content": null,
            "_view_module": "@jupyter-widgets/base",
            "overflow": null,
            "_model_module_version": "1.2.0",
            "_view_count": null,
            "flex_flow": null,
            "width": null,
            "min_width": null,
            "border": null,
            "align_items": null,
            "bottom": null,
            "_model_module": "@jupyter-widgets/base",
            "top": null,
            "grid_column": null,
            "overflow_y": null,
            "overflow_x": null,
            "grid_auto_flow": null,
            "grid_area": null,
            "grid_template_columns": null,
            "flex": null,
            "_model_name": "LayoutModel",
            "justify_items": null,
            "grid_row": null,
            "max_height": null,
            "align_content": null,
            "visibility": null,
            "align_self": null,
            "height": null,
            "min_height": null,
            "padding": null,
            "grid_auto_rows": null,
            "grid_gap": null,
            "max_width": null,
            "order": null,
            "_view_module_version": "1.2.0",
            "grid_template_areas": null,
            "object_position": null,
            "object_fit": null,
            "grid_auto_columns": null,
            "margin": null,
            "display": null,
            "left": null
          }
        },
        "1fb40718ee274bc7896b30abb5699e3f": {
          "model_module": "@jupyter-widgets/controls",
          "model_name": "ProgressStyleModel",
          "model_module_version": "1.5.0",
          "state": {
            "_view_name": "StyleView",
            "_model_name": "ProgressStyleModel",
            "description_width": "",
            "_view_module": "@jupyter-widgets/base",
            "_model_module_version": "1.5.0",
            "_view_count": null,
            "_view_module_version": "1.2.0",
            "bar_color": null,
            "_model_module": "@jupyter-widgets/controls"
          }
        },
        "74a3c24c97134bc3bfdc5fc14da03fd8": {
          "model_module": "@jupyter-widgets/base",
          "model_name": "LayoutModel",
          "model_module_version": "1.2.0",
          "state": {
            "_view_name": "LayoutView",
            "grid_template_rows": null,
            "right": null,
            "justify_content": null,
            "_view_module": "@jupyter-widgets/base",
            "overflow": null,
            "_model_module_version": "1.2.0",
            "_view_count": null,
            "flex_flow": null,
            "width": null,
            "min_width": null,
            "border": null,
            "align_items": null,
            "bottom": null,
            "_model_module": "@jupyter-widgets/base",
            "top": null,
            "grid_column": null,
            "overflow_y": null,
            "overflow_x": null,
            "grid_auto_flow": null,
            "grid_area": null,
            "grid_template_columns": null,
            "flex": null,
            "_model_name": "LayoutModel",
            "justify_items": null,
            "grid_row": null,
            "max_height": null,
            "align_content": null,
            "visibility": null,
            "align_self": null,
            "height": null,
            "min_height": null,
            "padding": null,
            "grid_auto_rows": null,
            "grid_gap": null,
            "max_width": null,
            "order": null,
            "_view_module_version": "1.2.0",
            "grid_template_areas": null,
            "object_position": null,
            "object_fit": null,
            "grid_auto_columns": null,
            "margin": null,
            "display": null,
            "left": null
          }
        },
        "36b1df2f14834895a426c6de5071b49c": {
          "model_module": "@jupyter-widgets/controls",
          "model_name": "DescriptionStyleModel",
          "model_module_version": "1.5.0",
          "state": {
            "_view_name": "StyleView",
            "_model_name": "DescriptionStyleModel",
            "description_width": "",
            "_view_module": "@jupyter-widgets/base",
            "_model_module_version": "1.5.0",
            "_view_count": null,
            "_view_module_version": "1.2.0",
            "_model_module": "@jupyter-widgets/controls"
          }
        },
        "ccbbad00d9944f8292f0e45f7a79863e": {
          "model_module": "@jupyter-widgets/base",
          "model_name": "LayoutModel",
          "model_module_version": "1.2.0",
          "state": {
            "_view_name": "LayoutView",
            "grid_template_rows": null,
            "right": null,
            "justify_content": null,
            "_view_module": "@jupyter-widgets/base",
            "overflow": null,
            "_model_module_version": "1.2.0",
            "_view_count": null,
            "flex_flow": null,
            "width": null,
            "min_width": null,
            "border": null,
            "align_items": null,
            "bottom": null,
            "_model_module": "@jupyter-widgets/base",
            "top": null,
            "grid_column": null,
            "overflow_y": null,
            "overflow_x": null,
            "grid_auto_flow": null,
            "grid_area": null,
            "grid_template_columns": null,
            "flex": null,
            "_model_name": "LayoutModel",
            "justify_items": null,
            "grid_row": null,
            "max_height": null,
            "align_content": null,
            "visibility": null,
            "align_self": null,
            "height": null,
            "min_height": null,
            "padding": null,
            "grid_auto_rows": null,
            "grid_gap": null,
            "max_width": null,
            "order": null,
            "_view_module_version": "1.2.0",
            "grid_template_areas": null,
            "object_position": null,
            "object_fit": null,
            "grid_auto_columns": null,
            "margin": null,
            "display": null,
            "left": null
          }
        },
        "f1258297dd3a4eddb24b257c14220f47": {
          "model_module": "@jupyter-widgets/controls",
          "model_name": "HBoxModel",
          "model_module_version": "1.5.0",
          "state": {
            "_view_name": "HBoxView",
            "_dom_classes": [],
            "_model_name": "HBoxModel",
            "_view_module": "@jupyter-widgets/controls",
            "_model_module_version": "1.5.0",
            "_view_count": null,
            "_view_module_version": "1.5.0",
            "box_style": "",
            "layout": "IPY_MODEL_2ee46314f88b41e8933a3853cdbb6f27",
            "_model_module": "@jupyter-widgets/controls",
            "children": [
              "IPY_MODEL_34d1d2b78f8548b0a27a77767df6bf61",
              "IPY_MODEL_96adc7240a2241dfbf5867e5f41d6e6b",
              "IPY_MODEL_60280e82c34348f7a4e1ceb75e76c359"
            ]
          }
        },
        "2ee46314f88b41e8933a3853cdbb6f27": {
          "model_module": "@jupyter-widgets/base",
          "model_name": "LayoutModel",
          "model_module_version": "1.2.0",
          "state": {
            "_view_name": "LayoutView",
            "grid_template_rows": null,
            "right": null,
            "justify_content": null,
            "_view_module": "@jupyter-widgets/base",
            "overflow": null,
            "_model_module_version": "1.2.0",
            "_view_count": null,
            "flex_flow": null,
            "width": null,
            "min_width": null,
            "border": null,
            "align_items": null,
            "bottom": null,
            "_model_module": "@jupyter-widgets/base",
            "top": null,
            "grid_column": null,
            "overflow_y": null,
            "overflow_x": null,
            "grid_auto_flow": null,
            "grid_area": null,
            "grid_template_columns": null,
            "flex": null,
            "_model_name": "LayoutModel",
            "justify_items": null,
            "grid_row": null,
            "max_height": null,
            "align_content": null,
            "visibility": null,
            "align_self": null,
            "height": null,
            "min_height": null,
            "padding": null,
            "grid_auto_rows": null,
            "grid_gap": null,
            "max_width": null,
            "order": null,
            "_view_module_version": "1.2.0",
            "grid_template_areas": null,
            "object_position": null,
            "object_fit": null,
            "grid_auto_columns": null,
            "margin": null,
            "display": null,
            "left": null
          }
        },
        "34d1d2b78f8548b0a27a77767df6bf61": {
          "model_module": "@jupyter-widgets/controls",
          "model_name": "HTMLModel",
          "model_module_version": "1.5.0",
          "state": {
            "_view_name": "HTMLView",
            "style": "IPY_MODEL_5d56d0975f7146f3b00aaf58b54f630c",
            "_dom_classes": [],
            "description": "",
            "_model_name": "HTMLModel",
            "placeholder": "​",
            "_view_module": "@jupyter-widgets/controls",
            "_model_module_version": "1.5.0",
            "value": "",
            "_view_count": null,
            "_view_module_version": "1.5.0",
            "description_tooltip": null,
            "_model_module": "@jupyter-widgets/controls",
            "layout": "IPY_MODEL_d2ae853ec3af42db9c349823a882229f"
          }
        },
        "96adc7240a2241dfbf5867e5f41d6e6b": {
          "model_module": "@jupyter-widgets/controls",
          "model_name": "FloatProgressModel",
          "model_module_version": "1.5.0",
          "state": {
            "_view_name": "ProgressView",
            "style": "IPY_MODEL_e1e167d232cc44948d8b4b6644f38dc7",
            "_dom_classes": [],
            "description": "",
            "_model_name": "FloatProgressModel",
            "bar_style": "success",
            "max": 5148,
            "_view_module": "@jupyter-widgets/controls",
            "_model_module_version": "1.5.0",
            "value": 5148,
            "_view_count": null,
            "_view_module_version": "1.5.0",
            "orientation": "horizontal",
            "min": 0,
            "description_tooltip": null,
            "_model_module": "@jupyter-widgets/controls",
            "layout": "IPY_MODEL_2371fd05b3c64ac2a985c7f5e43b0b58"
          }
        },
        "60280e82c34348f7a4e1ceb75e76c359": {
          "model_module": "@jupyter-widgets/controls",
          "model_name": "HTMLModel",
          "model_module_version": "1.5.0",
          "state": {
            "_view_name": "HTMLView",
            "style": "IPY_MODEL_6a16542854d8430d9a15f462f22cc1c3",
            "_dom_classes": [],
            "description": "",
            "_model_name": "HTMLModel",
            "placeholder": "​",
            "_view_module": "@jupyter-widgets/controls",
            "_model_module_version": "1.5.0",
            "value": " 6144/? [00:00&lt;00:00, 160521.52it/s]",
            "_view_count": null,
            "_view_module_version": "1.5.0",
            "description_tooltip": null,
            "_model_module": "@jupyter-widgets/controls",
            "layout": "IPY_MODEL_a681c41f35f64a66924bde2b03321005"
          }
        },
        "5d56d0975f7146f3b00aaf58b54f630c": {
          "model_module": "@jupyter-widgets/controls",
          "model_name": "DescriptionStyleModel",
          "model_module_version": "1.5.0",
          "state": {
            "_view_name": "StyleView",
            "_model_name": "DescriptionStyleModel",
            "description_width": "",
            "_view_module": "@jupyter-widgets/base",
            "_model_module_version": "1.5.0",
            "_view_count": null,
            "_view_module_version": "1.2.0",
            "_model_module": "@jupyter-widgets/controls"
          }
        },
        "d2ae853ec3af42db9c349823a882229f": {
          "model_module": "@jupyter-widgets/base",
          "model_name": "LayoutModel",
          "model_module_version": "1.2.0",
          "state": {
            "_view_name": "LayoutView",
            "grid_template_rows": null,
            "right": null,
            "justify_content": null,
            "_view_module": "@jupyter-widgets/base",
            "overflow": null,
            "_model_module_version": "1.2.0",
            "_view_count": null,
            "flex_flow": null,
            "width": null,
            "min_width": null,
            "border": null,
            "align_items": null,
            "bottom": null,
            "_model_module": "@jupyter-widgets/base",
            "top": null,
            "grid_column": null,
            "overflow_y": null,
            "overflow_x": null,
            "grid_auto_flow": null,
            "grid_area": null,
            "grid_template_columns": null,
            "flex": null,
            "_model_name": "LayoutModel",
            "justify_items": null,
            "grid_row": null,
            "max_height": null,
            "align_content": null,
            "visibility": null,
            "align_self": null,
            "height": null,
            "min_height": null,
            "padding": null,
            "grid_auto_rows": null,
            "grid_gap": null,
            "max_width": null,
            "order": null,
            "_view_module_version": "1.2.0",
            "grid_template_areas": null,
            "object_position": null,
            "object_fit": null,
            "grid_auto_columns": null,
            "margin": null,
            "display": null,
            "left": null
          }
        },
        "e1e167d232cc44948d8b4b6644f38dc7": {
          "model_module": "@jupyter-widgets/controls",
          "model_name": "ProgressStyleModel",
          "model_module_version": "1.5.0",
          "state": {
            "_view_name": "StyleView",
            "_model_name": "ProgressStyleModel",
            "description_width": "",
            "_view_module": "@jupyter-widgets/base",
            "_model_module_version": "1.5.0",
            "_view_count": null,
            "_view_module_version": "1.2.0",
            "bar_color": null,
            "_model_module": "@jupyter-widgets/controls"
          }
        },
        "2371fd05b3c64ac2a985c7f5e43b0b58": {
          "model_module": "@jupyter-widgets/base",
          "model_name": "LayoutModel",
          "model_module_version": "1.2.0",
          "state": {
            "_view_name": "LayoutView",
            "grid_template_rows": null,
            "right": null,
            "justify_content": null,
            "_view_module": "@jupyter-widgets/base",
            "overflow": null,
            "_model_module_version": "1.2.0",
            "_view_count": null,
            "flex_flow": null,
            "width": null,
            "min_width": null,
            "border": null,
            "align_items": null,
            "bottom": null,
            "_model_module": "@jupyter-widgets/base",
            "top": null,
            "grid_column": null,
            "overflow_y": null,
            "overflow_x": null,
            "grid_auto_flow": null,
            "grid_area": null,
            "grid_template_columns": null,
            "flex": null,
            "_model_name": "LayoutModel",
            "justify_items": null,
            "grid_row": null,
            "max_height": null,
            "align_content": null,
            "visibility": null,
            "align_self": null,
            "height": null,
            "min_height": null,
            "padding": null,
            "grid_auto_rows": null,
            "grid_gap": null,
            "max_width": null,
            "order": null,
            "_view_module_version": "1.2.0",
            "grid_template_areas": null,
            "object_position": null,
            "object_fit": null,
            "grid_auto_columns": null,
            "margin": null,
            "display": null,
            "left": null
          }
        },
        "6a16542854d8430d9a15f462f22cc1c3": {
          "model_module": "@jupyter-widgets/controls",
          "model_name": "DescriptionStyleModel",
          "model_module_version": "1.5.0",
          "state": {
            "_view_name": "StyleView",
            "_model_name": "DescriptionStyleModel",
            "description_width": "",
            "_view_module": "@jupyter-widgets/base",
            "_model_module_version": "1.5.0",
            "_view_count": null,
            "_view_module_version": "1.2.0",
            "_model_module": "@jupyter-widgets/controls"
          }
        },
        "a681c41f35f64a66924bde2b03321005": {
          "model_module": "@jupyter-widgets/base",
          "model_name": "LayoutModel",
          "model_module_version": "1.2.0",
          "state": {
            "_view_name": "LayoutView",
            "grid_template_rows": null,
            "right": null,
            "justify_content": null,
            "_view_module": "@jupyter-widgets/base",
            "overflow": null,
            "_model_module_version": "1.2.0",
            "_view_count": null,
            "flex_flow": null,
            "width": null,
            "min_width": null,
            "border": null,
            "align_items": null,
            "bottom": null,
            "_model_module": "@jupyter-widgets/base",
            "top": null,
            "grid_column": null,
            "overflow_y": null,
            "overflow_x": null,
            "grid_auto_flow": null,
            "grid_area": null,
            "grid_template_columns": null,
            "flex": null,
            "_model_name": "LayoutModel",
            "justify_items": null,
            "grid_row": null,
            "max_height": null,
            "align_content": null,
            "visibility": null,
            "align_self": null,
            "height": null,
            "min_height": null,
            "padding": null,
            "grid_auto_rows": null,
            "grid_gap": null,
            "max_width": null,
            "order": null,
            "_view_module_version": "1.2.0",
            "grid_template_areas": null,
            "object_position": null,
            "object_fit": null,
            "grid_auto_columns": null,
            "margin": null,
            "display": null,
            "left": null
          }
        }
      }
    },
    "accelerator": "GPU"
  },
  "cells": [
    {
      "cell_type": "markdown",
      "metadata": {
        "id": "view-in-github",
        "colab_type": "text"
      },
      "source": [
        "<a href=\"https://colab.research.google.com/github/nilutpolkashyap/pytorch_projects/blob/master/pytorch_fashion_mnist_classification.ipynb\" target=\"_parent\"><img src=\"https://colab.research.google.com/assets/colab-badge.svg\" alt=\"Open In Colab\"/></a>"
      ]
    },
    {
      "cell_type": "markdown",
      "metadata": {
        "id": "acuV8CLzimNw"
      },
      "source": [
        "# **FASHION MNIST**\n",
        "\n",
        "[Fashion MNIST Kaggle](https://pytorch.org/tutorials/beginner/basics/quickstart_tutorial.html)\n",
        "\n",
        "[PyTorch Tutorial](https://pytorch.org/tutorials/beginner/basics/quickstart_tutorial.html)"
      ]
    },
    {
      "cell_type": "code",
      "metadata": {
        "id": "BYflD4upvse4"
      },
      "source": [
        "import torch\n",
        "from torch import nn\n",
        "\n",
        "from torch.utils.data import DataLoader\n",
        "# DataLoader wraps an iterable around the Dataset\n",
        "\n",
        "from torchvision import datasets\n",
        "# torchvision.datasets module contains Dataset objects for many real-world vision data like CIFAR, COCO\n",
        "\n",
        "from torchvision.transforms import ToTensor, Lambda, Compose\n",
        "\n",
        "import matplotlib.pyplot as plt"
      ],
      "execution_count": 1,
      "outputs": []
    },
    {
      "cell_type": "code",
      "metadata": {
        "colab": {
          "base_uri": "https://localhost:8080/"
        },
        "id": "_p6VKOyd6r2l",
        "outputId": "49d1143d-e188-4e1f-cf6f-bd657a92b611"
      },
      "source": [
        "device = \"cuda\" if torch.cuda.is_available() else \"cpu\"\n",
        "print(\"Using {} device\".format(device))"
      ],
      "execution_count": 2,
      "outputs": [
        {
          "output_type": "stream",
          "name": "stdout",
          "text": [
            "Using cuda device\n"
          ]
        }
      ]
    },
    {
      "cell_type": "code",
      "metadata": {
        "colab": {
          "base_uri": "https://localhost:8080/",
          "height": 492,
          "referenced_widgets": [
            "f8b7b4d1b7764aada935713ed2eedf5d",
            "e7ad5aab7d0245c9ba5ade91d5e7bae4",
            "fed890483d494a1aa8031e53afd65c96",
            "0e407cd7f95d4b28adbdc09578029e1f",
            "2acb69bd4a6348a49f50166da31b0339",
            "e96b47c862ee43599f10a763eeb160f6",
            "113c31a3c5cb4a03b56f69b933eee9c2",
            "1d5a8b08eb384ffa820806eb5de28a21",
            "a8b1b090ac3b45d9bcb50a4ee0e45d70",
            "16b0594ce9e14d6cb607c33a58ef4661",
            "62094f271200487ca98960850492eac3",
            "150699d80d9a4fee8d48fc6c8c7af251",
            "aa09fa1625f44d56825d410974839ddb",
            "41554fc9eb884638a6562954ce6d2011",
            "3eff7f05812949fcbd9e3662e3484555",
            "1037cd56b1df4bd99c3c1b7edfbbaf16",
            "b803274fef814fa194bd8ce988b68fea",
            "99fcd1fbc16446e2ac25785ba5a2fe13",
            "c14ec79d8e1041ffbea0049b4fe75bb7",
            "474c42ecd8be4ff0a5c6495f8f5f5edc",
            "87b1aa898fbc43d2be41dd86f84b85b8",
            "b42ae00f3dc24c528dbef52ec8f39b12",
            "7fb6e17c20d34434be17e329612f910a",
            "283b0bfa708b4fa5a9d3a4829809ee02",
            "82c70065cd7b48ac94fa2e755f07a16e",
            "7d4310d99fcf4b90a2e10f85a07c77aa",
            "47f6ead525314f03821ea9ace05c529f",
            "9b49f5a3654847de88c0956fc9c1e1fd",
            "8bf8efec6b9049a7ab5d4059e9969060",
            "1fb40718ee274bc7896b30abb5699e3f",
            "74a3c24c97134bc3bfdc5fc14da03fd8",
            "36b1df2f14834895a426c6de5071b49c",
            "ccbbad00d9944f8292f0e45f7a79863e",
            "f1258297dd3a4eddb24b257c14220f47",
            "2ee46314f88b41e8933a3853cdbb6f27",
            "34d1d2b78f8548b0a27a77767df6bf61",
            "96adc7240a2241dfbf5867e5f41d6e6b",
            "60280e82c34348f7a4e1ceb75e76c359",
            "5d56d0975f7146f3b00aaf58b54f630c",
            "d2ae853ec3af42db9c349823a882229f",
            "e1e167d232cc44948d8b4b6644f38dc7",
            "2371fd05b3c64ac2a985c7f5e43b0b58",
            "6a16542854d8430d9a15f462f22cc1c3",
            "a681c41f35f64a66924bde2b03321005"
          ]
        },
        "id": "LENVi1QupgMg",
        "outputId": "03bc3f2d-cc43-4e14-d16a-1684db131bbb"
      },
      "source": [
        "# Download training data from open datasets.\n",
        "training_data = datasets.FashionMNIST(\n",
        "    root=\"data\",            # root is the path where the train/test data is stored\n",
        "    train=True,             # train specifies training or test dataset\n",
        "    download=True,          # download=True downloads the data from the internet if it’s not available at root\n",
        "    transform=ToTensor(),   # transform and target_transform specify the feature and label transformations\n",
        ")\n",
        "# ToTensor() works for the image, whose elements are in range 0 to 255. The entire array is converted to torch tensor \n",
        "# and then divided by 255. This is how it is forces the network to be between 0 and 1."
      ],
      "execution_count": 3,
      "outputs": [
        {
          "output_type": "stream",
          "name": "stdout",
          "text": [
            "Downloading http://fashion-mnist.s3-website.eu-central-1.amazonaws.com/train-images-idx3-ubyte.gz\n",
            "Downloading http://fashion-mnist.s3-website.eu-central-1.amazonaws.com/train-images-idx3-ubyte.gz to data/FashionMNIST/raw/train-images-idx3-ubyte.gz\n"
          ]
        },
        {
          "output_type": "display_data",
          "data": {
            "application/vnd.jupyter.widget-view+json": {
              "model_id": "f8b7b4d1b7764aada935713ed2eedf5d",
              "version_minor": 0,
              "version_major": 2
            },
            "text/plain": [
              "  0%|          | 0/26421880 [00:00<?, ?it/s]"
            ]
          },
          "metadata": {}
        },
        {
          "output_type": "stream",
          "name": "stdout",
          "text": [
            "Extracting data/FashionMNIST/raw/train-images-idx3-ubyte.gz to data/FashionMNIST/raw\n",
            "\n",
            "Downloading http://fashion-mnist.s3-website.eu-central-1.amazonaws.com/train-labels-idx1-ubyte.gz\n",
            "Downloading http://fashion-mnist.s3-website.eu-central-1.amazonaws.com/train-labels-idx1-ubyte.gz to data/FashionMNIST/raw/train-labels-idx1-ubyte.gz\n"
          ]
        },
        {
          "output_type": "display_data",
          "data": {
            "application/vnd.jupyter.widget-view+json": {
              "model_id": "150699d80d9a4fee8d48fc6c8c7af251",
              "version_minor": 0,
              "version_major": 2
            },
            "text/plain": [
              "  0%|          | 0/29515 [00:00<?, ?it/s]"
            ]
          },
          "metadata": {}
        },
        {
          "output_type": "stream",
          "name": "stdout",
          "text": [
            "Extracting data/FashionMNIST/raw/train-labels-idx1-ubyte.gz to data/FashionMNIST/raw\n",
            "\n",
            "Downloading http://fashion-mnist.s3-website.eu-central-1.amazonaws.com/t10k-images-idx3-ubyte.gz\n",
            "Downloading http://fashion-mnist.s3-website.eu-central-1.amazonaws.com/t10k-images-idx3-ubyte.gz to data/FashionMNIST/raw/t10k-images-idx3-ubyte.gz\n"
          ]
        },
        {
          "output_type": "display_data",
          "data": {
            "application/vnd.jupyter.widget-view+json": {
              "model_id": "7fb6e17c20d34434be17e329612f910a",
              "version_minor": 0,
              "version_major": 2
            },
            "text/plain": [
              "  0%|          | 0/4422102 [00:00<?, ?it/s]"
            ]
          },
          "metadata": {}
        },
        {
          "output_type": "stream",
          "name": "stdout",
          "text": [
            "Extracting data/FashionMNIST/raw/t10k-images-idx3-ubyte.gz to data/FashionMNIST/raw\n",
            "\n",
            "Downloading http://fashion-mnist.s3-website.eu-central-1.amazonaws.com/t10k-labels-idx1-ubyte.gz\n",
            "Downloading http://fashion-mnist.s3-website.eu-central-1.amazonaws.com/t10k-labels-idx1-ubyte.gz to data/FashionMNIST/raw/t10k-labels-idx1-ubyte.gz\n"
          ]
        },
        {
          "output_type": "display_data",
          "data": {
            "application/vnd.jupyter.widget-view+json": {
              "model_id": "f1258297dd3a4eddb24b257c14220f47",
              "version_minor": 0,
              "version_major": 2
            },
            "text/plain": [
              "  0%|          | 0/5148 [00:00<?, ?it/s]"
            ]
          },
          "metadata": {}
        },
        {
          "output_type": "stream",
          "name": "stdout",
          "text": [
            "Extracting data/FashionMNIST/raw/t10k-labels-idx1-ubyte.gz to data/FashionMNIST/raw\n",
            "\n"
          ]
        },
        {
          "output_type": "stream",
          "name": "stderr",
          "text": [
            "/usr/local/lib/python3.7/dist-packages/torchvision/datasets/mnist.py:498: UserWarning: The given NumPy array is not writeable, and PyTorch does not support non-writeable tensors. This means you can write to the underlying (supposedly non-writeable) NumPy array using the tensor. You may want to copy the array to protect its data or make it writeable before converting it to a tensor. This type of warning will be suppressed for the rest of this program. (Triggered internally at  /pytorch/torch/csrc/utils/tensor_numpy.cpp:180.)\n",
            "  return torch.from_numpy(parsed.astype(m[2], copy=False)).view(*s)\n"
          ]
        }
      ]
    },
    {
      "cell_type": "code",
      "metadata": {
        "colab": {
          "base_uri": "https://localhost:8080/"
        },
        "id": "hiJSmhuZqNhq",
        "outputId": "4f442c3a-f16f-4624-bd4d-159bdef2bbdc"
      },
      "source": [
        "training_data"
      ],
      "execution_count": 4,
      "outputs": [
        {
          "output_type": "execute_result",
          "data": {
            "text/plain": [
              "Dataset FashionMNIST\n",
              "    Number of datapoints: 60000\n",
              "    Root location: data\n",
              "    Split: Train\n",
              "    StandardTransform\n",
              "Transform: ToTensor()"
            ]
          },
          "metadata": {},
          "execution_count": 4
        }
      ]
    },
    {
      "cell_type": "code",
      "metadata": {
        "id": "HwiDRfGCy3kj"
      },
      "source": [
        "labels_map = {\n",
        "    0: \"T-Shirt\",\n",
        "    1: \"Trouser\",\n",
        "    2: \"Pullover\",\n",
        "    3: \"Dress\",\n",
        "    4: \"Coat\",\n",
        "    5: \"Sandal\",\n",
        "    6: \"Shirt\",\n",
        "    7: \"Sneaker\",\n",
        "    8: \"Bag\",\n",
        "    9: \"Ankle Boot\",\n",
        "}"
      ],
      "execution_count": 5,
      "outputs": []
    },
    {
      "cell_type": "code",
      "metadata": {
        "colab": {
          "base_uri": "https://localhost:8080/"
        },
        "id": "dR5iMEAWs7Na",
        "outputId": "595c339a-ebab-422c-8462-0dee6ec270b0"
      },
      "source": [
        "# use of torch.randint\n",
        "# Returns a tensor filled with random integers generated uniformly between low (inclusive, optional) and high (exclusive)\n",
        "# The shape of the tensor is defined by the variable argument size.\n",
        "\n",
        "x = torch.randint(3, 5, (3,))\n",
        "print(x)\n",
        "\n",
        "y = torch.randint(10, (2, 2))\n",
        "print(y)\n",
        "\n",
        "z = torch.randint(3, 10, (2, 2))\n",
        "print(z)"
      ],
      "execution_count": 6,
      "outputs": [
        {
          "output_type": "stream",
          "name": "stdout",
          "text": [
            "tensor([3, 3, 4])\n",
            "tensor([[1, 2],\n",
            "        [8, 3]])\n",
            "tensor([[3, 8],\n",
            "        [7, 9]])\n"
          ]
        }
      ]
    },
    {
      "cell_type": "code",
      "metadata": {
        "colab": {
          "base_uri": "https://localhost:8080/",
          "height": 482
        },
        "id": "4Jz_B4VmRtzb",
        "outputId": "5abb7350-0a3e-49de-877c-2ca10581b4e8"
      },
      "source": [
        "figure = plt.figure(figsize=(8, 8))\n",
        "cols, rows = 3, 3\n",
        "for i in range(1, cols * rows + 1):\n",
        "    sample_idx = torch.randint(len(training_data), size=(1,)).item()\n",
        "    img, label = training_data[sample_idx]\n",
        "    figure.add_subplot(rows, cols, i)\n",
        "    plt.title(labels_map[label])\n",
        "    plt.axis(\"off\")\n",
        "    plt.imshow(img.squeeze(), cmap=\"gray\")\n",
        "plt.show()"
      ],
      "execution_count": 7,
      "outputs": [
        {
          "output_type": "display_data",
          "data": {
            "image/png": "[encoded data removed]",
            "text/plain": [
              "<Figure size 576x576 with 9 Axes>"
            ]
          },
          "metadata": {
            "needs_background": "light"
          }
        }
      ]
    },
    {
      "cell_type": "code",
      "metadata": {
        "id": "1Xq9xuLhp4T1"
      },
      "source": [
        "''' '''  ''' '''# Download test data from open datasets.\n",
        "test_data = datasets.FashionMNIST(\n",
        "    root=\"data\",\n",
        "    train=False,\n",
        "    download=True,\n",
        "    transform=ToTensor(),\n",
        ")"
      ],
      "execution_count": 8,
      "outputs": []
    },
    {
      "cell_type": "code",
      "metadata": {
        "colab": {
          "base_uri": "https://localhost:8080/"
        },
        "id": "DKuDAeIPqB3J",
        "outputId": "39d62624-a66d-4ebe-d826-6b34d2d74984"
      },
      "source": [
        "test_data"
      ],
      "execution_count": 9,
      "outputs": [
        {
          "output_type": "execute_result",
          "data": {
            "text/plain": [
              "Dataset FashionMNIST\n",
              "    Number of datapoints: 10000\n",
              "    Root location: data\n",
              "    Split: Test\n",
              "    StandardTransform\n",
              "Transform: ToTensor()"
            ]
          },
          "metadata": {},
          "execution_count": 9
        }
      ]
    },
    {
      "cell_type": "code",
      "metadata": {
        "id": "ODVmxMYUqLhw"
      },
      "source": [
        "batch_size  = 64\n",
        "# define a batch size of 64, i.e. each element in the dataloader iterable will return a batch of 64 features and labels.\n",
        "\n",
        "#create label loaders\n",
        "# We pass the Dataset as an argument to DataLoader. This wraps an iterable over our dataset, and supports automatic batching, \n",
        "# sampling, shuffling and multiprocess data loading.\n",
        "train_dataloader = DataLoader(training_data, batch_size=batch_size, shuffle=True)\n",
        "test_dataloader = DataLoader(test_data, batch_size=batch_size, shuffle=True)\n",
        "\n",
        "# Because we specified shuffle=True, after we iterate over all batches the data is shuffled"
      ],
      "execution_count": 10,
      "outputs": []
    },
    {
      "cell_type": "code",
      "metadata": {
        "colab": {
          "base_uri": "https://localhost:8080/"
        },
        "id": "2V8v8YzBZiuq",
        "outputId": "8e4b1ea7-6581-4328-872f-db40b42cd2df"
      },
      "source": [
        "# use of squeeze() function\n",
        "# It is used when we want to remove single-dimensional entries from the shape of an array.\n",
        "\n",
        "temp = next(iter(train_dataloader))\n",
        "print(temp)\n",
        "print(len(temp))\n",
        "\n",
        "not_squeezed = temp[0][0]\n",
        "print(\"Before squeeze : \",  not_squeezed)\n",
        "\n",
        "squeezed = temp[0][0].squeeze()\n",
        "print(\"After squeeze : \", squeezed)\n",
        "\n",
        "# Basically iter() calls the __iter__() method on the iris_loader which returns an iterator. next() then calls the __next__() method \n",
        "# on that iterator to get the first iteration. Running next() again will get the second item of the iterator, etc."
      ],
      "execution_count": 23,
      "outputs": [
        {
          "output_type": "stream",
          "name": "stdout",
          "text": [
            "[tensor([[[[0.0000, 0.0000, 0.0000,  ..., 0.0000, 0.0000, 0.0000],\n",
            "          [0.0000, 0.0000, 0.0000,  ..., 0.0000, 0.0000, 0.0000],\n",
            "          [0.0000, 0.0000, 0.0000,  ..., 0.0000, 0.0000, 0.0000],\n",
            "          ...,\n",
            "          [0.0000, 0.0000, 0.0000,  ..., 0.0000, 0.0000, 0.0000],\n",
            "          [0.0000, 0.0000, 0.0000,  ..., 0.0000, 0.0000, 0.0000],\n",
            "          [0.0000, 0.0000, 0.0000,  ..., 0.0000, 0.0000, 0.0000]]],\n",
            "\n",
            "\n",
            "        [[[0.0000, 0.0000, 0.0000,  ..., 0.0000, 0.0000, 0.0000],\n",
            "          [0.0000, 0.0000, 0.0000,  ..., 0.0000, 0.0000, 0.0000],\n",
            "          [0.0000, 0.0000, 0.0000,  ..., 0.0000, 0.0000, 0.0000],\n",
            "          ...,\n",
            "          [0.0000, 0.0000, 0.0000,  ..., 0.4902, 0.0000, 0.0000],\n",
            "          [0.0000, 0.0000, 0.0000,  ..., 0.1765, 0.0000, 0.0000],\n",
            "          [0.0000, 0.0000, 0.0000,  ..., 0.0000, 0.0000, 0.0000]]],\n",
            "\n",
            "\n",
            "        [[[0.0000, 0.0000, 0.0000,  ..., 0.0000, 0.0000, 0.0000],\n",
            "          [0.0000, 0.0000, 0.0000,  ..., 0.0000, 0.0000, 0.0000],\n",
            "          [0.0000, 0.0000, 0.0000,  ..., 0.0431, 0.0000, 0.0000],\n",
            "          ...,\n",
            "          [0.0000, 0.0000, 0.0941,  ..., 0.0000, 0.0000, 0.0000],\n",
            "          [0.0000, 0.0000, 0.0000,  ..., 0.0000, 0.0000, 0.0000],\n",
            "          [0.0000, 0.0000, 0.0000,  ..., 0.0000, 0.0000, 0.0000]]],\n",
            "\n",
            "\n",
            "        ...,\n",
            "\n",
            "\n",
            "        [[[0.0000, 0.0000, 0.0000,  ..., 0.0000, 0.0000, 0.0000],\n",
            "          [0.0000, 0.0000, 0.0000,  ..., 0.0000, 0.0000, 0.0000],\n",
            "          [0.0000, 0.0000, 0.0000,  ..., 0.0000, 0.0000, 0.0000],\n",
            "          ...,\n",
            "          [0.0000, 0.0000, 0.0000,  ..., 0.0000, 0.0000, 0.0000],\n",
            "          [0.0000, 0.0000, 0.0000,  ..., 0.0000, 0.0000, 0.0000],\n",
            "          [0.0000, 0.0000, 0.0000,  ..., 0.0000, 0.0000, 0.0000]]],\n",
            "\n",
            "\n",
            "        [[[0.0000, 0.0000, 0.0000,  ..., 0.0000, 0.0000, 0.0000],\n",
            "          [0.0000, 0.0000, 0.0000,  ..., 0.0000, 0.0000, 0.0000],\n",
            "          [0.0000, 0.0000, 0.0000,  ..., 0.0000, 0.0000, 0.0000],\n",
            "          ...,\n",
            "          [0.0000, 0.0000, 0.0000,  ..., 0.0000, 0.0000, 0.0000],\n",
            "          [0.0000, 0.0000, 0.0000,  ..., 0.0000, 0.0000, 0.0000],\n",
            "          [0.0000, 0.0000, 0.0000,  ..., 0.0000, 0.0000, 0.0000]]],\n",
            "\n",
            "\n",
            "        [[[0.0000, 0.0000, 0.0000,  ..., 0.0000, 0.0000, 0.0000],\n",
            "          [0.0000, 0.0000, 0.0000,  ..., 0.0000, 0.0000, 0.0000],\n",
            "          [0.0000, 0.0000, 0.0000,  ..., 0.0000, 0.0000, 0.0000],\n",
            "          ...,\n",
            "          [0.0000, 0.0000, 0.0000,  ..., 0.0000, 0.0000, 0.0000],\n",
            "          [0.0000, 0.0000, 0.0000,  ..., 0.0000, 0.0000, 0.0000],\n",
            "          [0.0000, 0.0000, 0.0000,  ..., 0.0000, 0.0000, 0.0000]]]]), tensor([4, 6, 9, 6, 6, 7, 9, 5, 3, 8, 0, 5, 6, 0, 5, 0, 5, 7, 3, 4, 9, 8, 5, 5,\n",
            "        3, 9, 8, 8, 9, 5, 8, 3, 6, 8, 9, 3, 3, 7, 2, 7, 3, 0, 7, 1, 2, 9, 9, 2,\n",
            "        3, 1, 2, 4, 8, 2, 2, 4, 3, 4, 2, 8, 4, 7, 4, 4])]\n",
            "2\n",
            "Before squeeze :  tensor([[[0.0000, 0.0000, 0.0000, 0.0000, 0.0000, 0.0000, 0.0000, 0.0000,\n",
            "          0.0039, 0.0000, 0.0000, 0.1451, 0.6784, 0.5294, 0.5098, 0.6824,\n",
            "          0.2078, 0.0000, 0.0078, 0.0078, 0.0000, 0.0000, 0.0000, 0.0000,\n",
            "          0.0000, 0.0000, 0.0000, 0.0000],\n",
            "         [0.0000, 0.0000, 0.0000, 0.0000, 0.0000, 0.0000, 0.0078, 0.0000,\n",
            "          0.0000, 0.0000, 0.0000, 0.3961, 0.6510, 0.7647, 0.6902, 0.5608,\n",
            "          0.3686, 0.0000, 0.0000, 0.0000, 0.0000, 0.0039, 0.0000, 0.0000,\n",
            "          0.0000, 0.0000, 0.0000, 0.0000],\n",
            "         [0.0000, 0.0000, 0.0000, 0.0000, 0.0000, 0.0039, 0.0000, 0.0000,\n",
            "          0.2078, 0.7020, 0.5176, 0.5686, 0.3843, 0.3569, 0.3961, 0.4000,\n",
            "          0.4941, 0.5804, 0.6196, 0.1059, 0.0000, 0.0000, 0.0039, 0.0039,\n",
            "          0.0000, 0.0000, 0.0000, 0.0000],\n",
            "         [0.0000, 0.0000, 0.0000, 0.0000, 0.0000, 0.0000, 0.0000, 0.4353,\n",
            "          0.5686, 0.5098, 0.4667, 0.4627, 0.4353, 0.4627, 0.4980, 0.4196,\n",
            "          0.4353, 0.4706, 0.5137, 0.6000, 0.4667, 0.0118, 0.0000, 0.0078,\n",
            "          0.0000, 0.0000, 0.0000, 0.0000],\n",
            "         [0.0000, 0.0000, 0.0000, 0.0039, 0.0078, 0.0000, 0.2667, 0.5176,\n",
            "          0.3961, 0.4275, 0.4275, 0.3961, 0.4196, 0.6314, 0.4863, 0.3961,\n",
            "          0.4118, 0.4000, 0.4078, 0.4000, 0.4784, 0.4667, 0.0000, 0.0000,\n",
            "          0.0039, 0.0000, 0.0000, 0.0000],\n",
            "         [0.0000, 0.0000, 0.0000, 0.0039, 0.0000, 0.0000, 0.5137, 0.4314,\n",
            "          0.4196, 0.4078, 0.3922, 0.4275, 0.4000, 0.3922, 0.4627, 0.4078,\n",
            "          0.3843, 0.4275, 0.4275, 0.4157, 0.3961, 0.4627, 0.2471, 0.0000,\n",
            "          0.0078, 0.0000, 0.0000, 0.0000],\n",
            "         [0.0000, 0.0000, 0.0000, 0.0078, 0.0000, 0.0784, 0.4667, 0.4353,\n",
            "          0.4627, 0.4627, 0.4118, 0.4118, 0.3961, 0.5686, 0.5255, 0.4314,\n",
            "          0.4275, 0.4078, 0.4196, 0.4314, 0.4078, 0.4471, 0.3804, 0.0000,\n",
            "          0.0039, 0.0000, 0.0000, 0.0000],\n",
            "         [0.0000, 0.0000, 0.0000, 0.0118, 0.0000, 0.1961, 0.4824, 0.3961,\n",
            "          0.4118, 0.4510, 0.4706, 0.4196, 0.4157, 0.4196, 0.4471, 0.4588,\n",
            "          0.4431, 0.4314, 0.4196, 0.4353, 0.4157, 0.4824, 0.4706, 0.0000,\n",
            "          0.0000, 0.0000, 0.0000, 0.0000],\n",
            "         [0.0000, 0.0000, 0.0000, 0.0078, 0.0000, 0.3412, 0.4824, 0.5020,\n",
            "          0.3961, 0.3412, 0.4196, 0.4431, 0.4196, 0.5608, 0.4353, 0.4078,\n",
            "          0.4275, 0.4510, 0.4118, 0.3843, 0.4941, 0.4784, 0.5255, 0.0000,\n",
            "          0.0000, 0.0000, 0.0000, 0.0000],\n",
            "         [0.0000, 0.0000, 0.0000, 0.0000, 0.0000, 0.4627, 0.4510, 0.6353,\n",
            "          0.9373, 0.3294, 0.4000, 0.3804, 0.3961, 0.4667, 0.4471, 0.3961,\n",
            "          0.3804, 0.4275, 0.2784, 0.7804, 0.7333, 0.4314, 0.4863, 0.0706,\n",
            "          0.0000, 0.0000, 0.0000, 0.0000],\n",
            "         [0.0000, 0.0000, 0.0000, 0.0000, 0.0000, 0.5373, 0.4471, 0.6314,\n",
            "          1.0000, 0.3333, 0.4353, 0.3490, 0.3961, 0.3765, 0.4000, 0.4078,\n",
            "          0.3843, 0.4275, 0.3647, 0.7294, 0.5608, 0.5020, 0.5020, 0.1882,\n",
            "          0.0000, 0.0000, 0.0000, 0.0000],\n",
            "         [0.0000, 0.0000, 0.0000, 0.0000, 0.0627, 0.5529, 0.4588, 0.6314,\n",
            "          0.5882, 0.3961, 0.5647, 0.3804, 0.3961, 0.6353, 0.5294, 0.3922,\n",
            "          0.4118, 0.4588, 0.4863, 0.3412, 0.5490, 0.5137, 0.5098, 0.2745,\n",
            "          0.0000, 0.0000, 0.0000, 0.0000],\n",
            "         [0.0000, 0.0000, 0.0000, 0.0000, 0.1765, 0.5294, 0.4471, 0.7373,\n",
            "          0.2980, 0.4980, 0.5373, 0.3922, 0.4000, 0.3490, 0.4314, 0.4431,\n",
            "          0.4000, 0.4471, 0.5333, 0.1804, 0.6157, 0.5294, 0.4980, 0.3569,\n",
            "          0.0000, 0.0000, 0.0000, 0.0000],\n",
            "         [0.0000, 0.0000, 0.0000, 0.0000, 0.2588, 0.4510, 0.5020, 0.7843,\n",
            "          0.2431, 0.4980, 0.4275, 0.4157, 0.4431, 0.5020, 0.5373, 0.4196,\n",
            "          0.4196, 0.4510, 0.5098, 0.0588, 0.5529, 0.5529, 0.4706, 0.4196,\n",
            "          0.0000, 0.0000, 0.0000, 0.0000],\n",
            "         [0.0000, 0.0000, 0.0000, 0.0000, 0.3451, 0.4275, 0.5529, 0.8157,\n",
            "          0.0000, 0.4784, 0.4510, 0.4000, 0.3961, 0.5961, 0.5373, 0.3922,\n",
            "          0.4196, 0.4471, 0.5294, 0.0000, 0.7137, 0.5529, 0.4627, 0.4667,\n",
            "          0.0000, 0.0000, 0.0000, 0.0000],\n",
            "         [0.0000, 0.0000, 0.0000, 0.0000, 0.4314, 0.3922, 0.6784, 0.9020,\n",
            "          0.0000, 0.4706, 0.4667, 0.4471, 0.3843, 0.3137, 0.4157, 0.4078,\n",
            "          0.4118, 0.4275, 0.5333, 0.0000, 0.8000, 0.5843, 0.4588, 0.4941,\n",
            "          0.0000, 0.0000, 0.0000, 0.0000],\n",
            "         [0.0000, 0.0000, 0.0000, 0.0000, 0.4627, 0.3765, 0.7373, 0.5333,\n",
            "          0.0000, 0.5294, 0.4431, 0.4275, 0.4275, 0.5490, 0.5373, 0.4157,\n",
            "          0.4157, 0.3961, 0.5529, 0.0000, 0.6784, 0.6510, 0.4510, 0.5020,\n",
            "          0.0039, 0.0000, 0.0000, 0.0000],\n",
            "         [0.0000, 0.0000, 0.0000, 0.0000, 0.4667, 0.3961, 0.6902, 0.3294,\n",
            "          0.0000, 0.5647, 0.4314, 0.4118, 0.3804, 0.5294, 0.5294, 0.4157,\n",
            "          0.3922, 0.4118, 0.5373, 0.0588, 0.4588, 0.7059, 0.4431, 0.5176,\n",
            "          0.0902, 0.0000, 0.0000, 0.0000],\n",
            "         [0.0000, 0.0000, 0.0000, 0.0000, 0.4784, 0.4157, 0.8039, 0.4667,\n",
            "          0.0235, 0.5490, 0.4431, 0.4314, 0.3961, 0.3059, 0.4510, 0.4314,\n",
            "          0.3843, 0.4510, 0.4941, 0.2157, 0.5098, 0.7529, 0.4118, 0.5137,\n",
            "          0.0941, 0.0000, 0.0000, 0.0000],\n",
            "         [0.0000, 0.0000, 0.0000, 0.0196, 0.4863, 0.4314, 0.8039, 0.6000,\n",
            "          0.2784, 0.5098, 0.4471, 0.3490, 0.3333, 0.5686, 0.4980, 0.3412,\n",
            "          0.3412, 0.4078, 0.4471, 0.3608, 0.3176, 0.7490, 0.4196, 0.5098,\n",
            "          0.1020, 0.0000, 0.0000, 0.0000],\n",
            "         [0.0000, 0.0000, 0.0000, 0.0784, 0.4706, 0.4471, 0.7725, 0.6510,\n",
            "          0.2039, 0.3804, 0.4196, 0.4196, 0.4275, 0.5137, 0.6000, 0.4353,\n",
            "          0.4157, 0.3569, 0.3490, 0.2745, 0.3176, 0.7569, 0.4196, 0.4784,\n",
            "          0.1098, 0.0000, 0.0000, 0.0000],\n",
            "         [0.0000, 0.0000, 0.0000, 0.1255, 0.4471, 0.4941, 0.7647, 0.5176,\n",
            "          0.5686, 0.7137, 0.8078, 0.7725, 0.8078, 0.6706, 0.8196, 0.6980,\n",
            "          0.8235, 0.8510, 0.6392, 0.5647, 0.4784, 0.8039, 0.3490, 0.4824,\n",
            "          0.1451, 0.0000, 0.0000, 0.0000],\n",
            "         [0.0000, 0.0000, 0.0000, 0.1608, 0.4196, 0.4588, 0.6824, 0.6863,\n",
            "          0.7216, 0.6980, 0.7922, 0.6627, 0.6627, 0.6157, 0.7804, 0.6275,\n",
            "          0.6863, 0.8431, 0.6549, 0.7059, 0.6510, 0.6627, 0.3569, 0.4784,\n",
            "          0.1373, 0.0000, 0.0000, 0.0000],\n",
            "         [0.0000, 0.0000, 0.0000, 0.1373, 0.4471, 0.4118, 0.6471, 0.4941,\n",
            "          0.6627, 0.6471, 0.7843, 0.6275, 0.6000, 0.5647, 0.7373, 0.6549,\n",
            "          0.6039, 0.7843, 0.6118, 0.6000, 0.6510, 0.6314, 0.3333, 0.4941,\n",
            "          0.1098, 0.0000, 0.0000, 0.0000],\n",
            "         [0.0000, 0.0000, 0.0000, 0.2941, 0.4431, 0.4863, 0.6471, 0.1412,\n",
            "          0.5098, 0.7333, 0.8314, 0.6314, 0.6118, 0.6353, 0.7647, 0.7059,\n",
            "          0.6000, 0.8588, 0.6706, 0.6667, 0.3255, 0.6118, 0.4510, 0.4824,\n",
            "          0.2549, 0.0000, 0.0000, 0.0000],\n",
            "         [0.0000, 0.0000, 0.0000, 0.3333, 0.4314, 0.6000, 0.6510, 0.1412,\n",
            "          0.0000, 0.0784, 0.1569, 0.1294, 0.1647, 0.2941, 0.3451, 0.3059,\n",
            "          0.2745, 0.4353, 0.2824, 0.0000, 0.0039, 0.6392, 0.5608, 0.4078,\n",
            "          0.3490, 0.0000, 0.0000, 0.0000],\n",
            "         [0.0000, 0.0000, 0.0000, 0.2039, 0.4588, 0.4824, 0.6353, 0.2588,\n",
            "          0.0000, 0.0000, 0.0000, 0.0000, 0.0000, 0.0000, 0.0000, 0.0000,\n",
            "          0.0000, 0.0000, 0.0000, 0.0000, 0.0706, 0.6314, 0.4667, 0.4784,\n",
            "          0.1922, 0.0000, 0.0000, 0.0000],\n",
            "         [0.0000, 0.0000, 0.0000, 0.2039, 0.4667, 0.4706, 0.5804, 0.2039,\n",
            "          0.0000, 0.0118, 0.0078, 0.0118, 0.0078, 0.0078, 0.0039, 0.0039,\n",
            "          0.0000, 0.0078, 0.0078, 0.0000, 0.0353, 0.4941, 0.4118, 0.3294,\n",
            "          0.1765, 0.0000, 0.0000, 0.0000]]])\n",
            "After squeeze :  tensor([[0.0000, 0.0000, 0.0000, 0.0000, 0.0000, 0.0000, 0.0000, 0.0000, 0.0039,\n",
            "         0.0000, 0.0000, 0.1451, 0.6784, 0.5294, 0.5098, 0.6824, 0.2078, 0.0000,\n",
            "         0.0078, 0.0078, 0.0000, 0.0000, 0.0000, 0.0000, 0.0000, 0.0000, 0.0000,\n",
            "         0.0000],\n",
            "        [0.0000, 0.0000, 0.0000, 0.0000, 0.0000, 0.0000, 0.0078, 0.0000, 0.0000,\n",
            "         0.0000, 0.0000, 0.3961, 0.6510, 0.7647, 0.6902, 0.5608, 0.3686, 0.0000,\n",
            "         0.0000, 0.0000, 0.0000, 0.0039, 0.0000, 0.0000, 0.0000, 0.0000, 0.0000,\n",
            "         0.0000],\n",
            "        [0.0000, 0.0000, 0.0000, 0.0000, 0.0000, 0.0039, 0.0000, 0.0000, 0.2078,\n",
            "         0.7020, 0.5176, 0.5686, 0.3843, 0.3569, 0.3961, 0.4000, 0.4941, 0.5804,\n",
            "         0.6196, 0.1059, 0.0000, 0.0000, 0.0039, 0.0039, 0.0000, 0.0000, 0.0000,\n",
            "         0.0000],\n",
            "        [0.0000, 0.0000, 0.0000, 0.0000, 0.0000, 0.0000, 0.0000, 0.4353, 0.5686,\n",
            "         0.5098, 0.4667, 0.4627, 0.4353, 0.4627, 0.4980, 0.4196, 0.4353, 0.4706,\n",
            "         0.5137, 0.6000, 0.4667, 0.0118, 0.0000, 0.0078, 0.0000, 0.0000, 0.0000,\n",
            "         0.0000],\n",
            "        [0.0000, 0.0000, 0.0000, 0.0039, 0.0078, 0.0000, 0.2667, 0.5176, 0.3961,\n",
            "         0.4275, 0.4275, 0.3961, 0.4196, 0.6314, 0.4863, 0.3961, 0.4118, 0.4000,\n",
            "         0.4078, 0.4000, 0.4784, 0.4667, 0.0000, 0.0000, 0.0039, 0.0000, 0.0000,\n",
            "         0.0000],\n",
            "        [0.0000, 0.0000, 0.0000, 0.0039, 0.0000, 0.0000, 0.5137, 0.4314, 0.4196,\n",
            "         0.4078, 0.3922, 0.4275, 0.4000, 0.3922, 0.4627, 0.4078, 0.3843, 0.4275,\n",
            "         0.4275, 0.4157, 0.3961, 0.4627, 0.2471, 0.0000, 0.0078, 0.0000, 0.0000,\n",
            "         0.0000],\n",
            "        [0.0000, 0.0000, 0.0000, 0.0078, 0.0000, 0.0784, 0.4667, 0.4353, 0.4627,\n",
            "         0.4627, 0.4118, 0.4118, 0.3961, 0.5686, 0.5255, 0.4314, 0.4275, 0.4078,\n",
            "         0.4196, 0.4314, 0.4078, 0.4471, 0.3804, 0.0000, 0.0039, 0.0000, 0.0000,\n",
            "         0.0000],\n",
            "        [0.0000, 0.0000, 0.0000, 0.0118, 0.0000, 0.1961, 0.4824, 0.3961, 0.4118,\n",
            "         0.4510, 0.4706, 0.4196, 0.4157, 0.4196, 0.4471, 0.4588, 0.4431, 0.4314,\n",
            "         0.4196, 0.4353, 0.4157, 0.4824, 0.4706, 0.0000, 0.0000, 0.0000, 0.0000,\n",
            "         0.0000],\n",
            "        [0.0000, 0.0000, 0.0000, 0.0078, 0.0000, 0.3412, 0.4824, 0.5020, 0.3961,\n",
            "         0.3412, 0.4196, 0.4431, 0.4196, 0.5608, 0.4353, 0.4078, 0.4275, 0.4510,\n",
            "         0.4118, 0.3843, 0.4941, 0.4784, 0.5255, 0.0000, 0.0000, 0.0000, 0.0000,\n",
            "         0.0000],\n",
            "        [0.0000, 0.0000, 0.0000, 0.0000, 0.0000, 0.4627, 0.4510, 0.6353, 0.9373,\n",
            "         0.3294, 0.4000, 0.3804, 0.3961, 0.4667, 0.4471, 0.3961, 0.3804, 0.4275,\n",
            "         0.2784, 0.7804, 0.7333, 0.4314, 0.4863, 0.0706, 0.0000, 0.0000, 0.0000,\n",
            "         0.0000],\n",
            "        [0.0000, 0.0000, 0.0000, 0.0000, 0.0000, 0.5373, 0.4471, 0.6314, 1.0000,\n",
            "         0.3333, 0.4353, 0.3490, 0.3961, 0.3765, 0.4000, 0.4078, 0.3843, 0.4275,\n",
            "         0.3647, 0.7294, 0.5608, 0.5020, 0.5020, 0.1882, 0.0000, 0.0000, 0.0000,\n",
            "         0.0000],\n",
            "        [0.0000, 0.0000, 0.0000, 0.0000, 0.0627, 0.5529, 0.4588, 0.6314, 0.5882,\n",
            "         0.3961, 0.5647, 0.3804, 0.3961, 0.6353, 0.5294, 0.3922, 0.4118, 0.4588,\n",
            "         0.4863, 0.3412, 0.5490, 0.5137, 0.5098, 0.2745, 0.0000, 0.0000, 0.0000,\n",
            "         0.0000],\n",
            "        [0.0000, 0.0000, 0.0000, 0.0000, 0.1765, 0.5294, 0.4471, 0.7373, 0.2980,\n",
            "         0.4980, 0.5373, 0.3922, 0.4000, 0.3490, 0.4314, 0.4431, 0.4000, 0.4471,\n",
            "         0.5333, 0.1804, 0.6157, 0.5294, 0.4980, 0.3569, 0.0000, 0.0000, 0.0000,\n",
            "         0.0000],\n",
            "        [0.0000, 0.0000, 0.0000, 0.0000, 0.2588, 0.4510, 0.5020, 0.7843, 0.2431,\n",
            "         0.4980, 0.4275, 0.4157, 0.4431, 0.5020, 0.5373, 0.4196, 0.4196, 0.4510,\n",
            "         0.5098, 0.0588, 0.5529, 0.5529, 0.4706, 0.4196, 0.0000, 0.0000, 0.0000,\n",
            "         0.0000],\n",
            "        [0.0000, 0.0000, 0.0000, 0.0000, 0.3451, 0.4275, 0.5529, 0.8157, 0.0000,\n",
            "         0.4784, 0.4510, 0.4000, 0.3961, 0.5961, 0.5373, 0.3922, 0.4196, 0.4471,\n",
            "         0.5294, 0.0000, 0.7137, 0.5529, 0.4627, 0.4667, 0.0000, 0.0000, 0.0000,\n",
            "         0.0000],\n",
            "        [0.0000, 0.0000, 0.0000, 0.0000, 0.4314, 0.3922, 0.6784, 0.9020, 0.0000,\n",
            "         0.4706, 0.4667, 0.4471, 0.3843, 0.3137, 0.4157, 0.4078, 0.4118, 0.4275,\n",
            "         0.5333, 0.0000, 0.8000, 0.5843, 0.4588, 0.4941, 0.0000, 0.0000, 0.0000,\n",
            "         0.0000],\n",
            "        [0.0000, 0.0000, 0.0000, 0.0000, 0.4627, 0.3765, 0.7373, 0.5333, 0.0000,\n",
            "         0.5294, 0.4431, 0.4275, 0.4275, 0.5490, 0.5373, 0.4157, 0.4157, 0.3961,\n",
            "         0.5529, 0.0000, 0.6784, 0.6510, 0.4510, 0.5020, 0.0039, 0.0000, 0.0000,\n",
            "         0.0000],\n",
            "        [0.0000, 0.0000, 0.0000, 0.0000, 0.4667, 0.3961, 0.6902, 0.3294, 0.0000,\n",
            "         0.5647, 0.4314, 0.4118, 0.3804, 0.5294, 0.5294, 0.4157, 0.3922, 0.4118,\n",
            "         0.5373, 0.0588, 0.4588, 0.7059, 0.4431, 0.5176, 0.0902, 0.0000, 0.0000,\n",
            "         0.0000],\n",
            "        [0.0000, 0.0000, 0.0000, 0.0000, 0.4784, 0.4157, 0.8039, 0.4667, 0.0235,\n",
            "         0.5490, 0.4431, 0.4314, 0.3961, 0.3059, 0.4510, 0.4314, 0.3843, 0.4510,\n",
            "         0.4941, 0.2157, 0.5098, 0.7529, 0.4118, 0.5137, 0.0941, 0.0000, 0.0000,\n",
            "         0.0000],\n",
            "        [0.0000, 0.0000, 0.0000, 0.0196, 0.4863, 0.4314, 0.8039, 0.6000, 0.2784,\n",
            "         0.5098, 0.4471, 0.3490, 0.3333, 0.5686, 0.4980, 0.3412, 0.3412, 0.4078,\n",
            "         0.4471, 0.3608, 0.3176, 0.7490, 0.4196, 0.5098, 0.1020, 0.0000, 0.0000,\n",
            "         0.0000],\n",
            "        [0.0000, 0.0000, 0.0000, 0.0784, 0.4706, 0.4471, 0.7725, 0.6510, 0.2039,\n",
            "         0.3804, 0.4196, 0.4196, 0.4275, 0.5137, 0.6000, 0.4353, 0.4157, 0.3569,\n",
            "         0.3490, 0.2745, 0.3176, 0.7569, 0.4196, 0.4784, 0.1098, 0.0000, 0.0000,\n",
            "         0.0000],\n",
            "        [0.0000, 0.0000, 0.0000, 0.1255, 0.4471, 0.4941, 0.7647, 0.5176, 0.5686,\n",
            "         0.7137, 0.8078, 0.7725, 0.8078, 0.6706, 0.8196, 0.6980, 0.8235, 0.8510,\n",
            "         0.6392, 0.5647, 0.4784, 0.8039, 0.3490, 0.4824, 0.1451, 0.0000, 0.0000,\n",
            "         0.0000],\n",
            "        [0.0000, 0.0000, 0.0000, 0.1608, 0.4196, 0.4588, 0.6824, 0.6863, 0.7216,\n",
            "         0.6980, 0.7922, 0.6627, 0.6627, 0.6157, 0.7804, 0.6275, 0.6863, 0.8431,\n",
            "         0.6549, 0.7059, 0.6510, 0.6627, 0.3569, 0.4784, 0.1373, 0.0000, 0.0000,\n",
            "         0.0000],\n",
            "        [0.0000, 0.0000, 0.0000, 0.1373, 0.4471, 0.4118, 0.6471, 0.4941, 0.6627,\n",
            "         0.6471, 0.7843, 0.6275, 0.6000, 0.5647, 0.7373, 0.6549, 0.6039, 0.7843,\n",
            "         0.6118, 0.6000, 0.6510, 0.6314, 0.3333, 0.4941, 0.1098, 0.0000, 0.0000,\n",
            "         0.0000],\n",
            "        [0.0000, 0.0000, 0.0000, 0.2941, 0.4431, 0.4863, 0.6471, 0.1412, 0.5098,\n",
            "         0.7333, 0.8314, 0.6314, 0.6118, 0.6353, 0.7647, 0.7059, 0.6000, 0.8588,\n",
            "         0.6706, 0.6667, 0.3255, 0.6118, 0.4510, 0.4824, 0.2549, 0.0000, 0.0000,\n",
            "         0.0000],\n",
            "        [0.0000, 0.0000, 0.0000, 0.3333, 0.4314, 0.6000, 0.6510, 0.1412, 0.0000,\n",
            "         0.0784, 0.1569, 0.1294, 0.1647, 0.2941, 0.3451, 0.3059, 0.2745, 0.4353,\n",
            "         0.2824, 0.0000, 0.0039, 0.6392, 0.5608, 0.4078, 0.3490, 0.0000, 0.0000,\n",
            "         0.0000],\n",
            "        [0.0000, 0.0000, 0.0000, 0.2039, 0.4588, 0.4824, 0.6353, 0.2588, 0.0000,\n",
            "         0.0000, 0.0000, 0.0000, 0.0000, 0.0000, 0.0000, 0.0000, 0.0000, 0.0000,\n",
            "         0.0000, 0.0000, 0.0706, 0.6314, 0.4667, 0.4784, 0.1922, 0.0000, 0.0000,\n",
            "         0.0000],\n",
            "        [0.0000, 0.0000, 0.0000, 0.2039, 0.4667, 0.4706, 0.5804, 0.2039, 0.0000,\n",
            "         0.0118, 0.0078, 0.0118, 0.0078, 0.0078, 0.0039, 0.0039, 0.0000, 0.0078,\n",
            "         0.0078, 0.0000, 0.0353, 0.4941, 0.4118, 0.3294, 0.1765, 0.0000, 0.0000,\n",
            "         0.0000]])\n"
          ]
        }
      ]
    },
    {
      "cell_type": "code",
      "metadata": {
        "id": "yEL1PisOSxqi",
        "colab": {
          "base_uri": "https://localhost:8080/",
          "height": 320
        },
        "outputId": "fb976052-6edd-4e99-85bf-02b081d7a597"
      },
      "source": [
        "# We have loaded that dataset into the DataLoader and can iterate through the dataset as needed. \n",
        "# Each iteration below returns a batch of train_features and train_labels (containing batch_size=64 features and labels respectively)\n",
        "train_features, train_labels = next(iter(train_dataloader))\n",
        "print(f\"Feature batch shape: {train_features.size()}\")\n",
        "print(f\"Labels batch shape: {train_labels.size()}\")\n",
        "img = train_features[0].squeeze()\n",
        "label = train_labels[0]\n",
        "plt.imshow(img, cmap=\"gray\")\n",
        "plt.show()\n",
        "print(f\"Label: {label}\")"
      ],
      "execution_count": 19,
      "outputs": [
        {
          "output_type": "stream",
          "name": "stdout",
          "text": [
            "Feature batch shape: torch.Size([64, 1, 28, 28])\n",
            "Labels batch shape: torch.Size([64])\n"
          ]
        },
        {
          "output_type": "display_data",
          "data": {
            "image/png": "[encoded data removed]",
            "text/plain": [
              "<Figure size 432x288 with 1 Axes>"
            ]
          },
          "metadata": {
            "needs_background": "light"
          }
        },
        {
          "output_type": "stream",
          "name": "stdout",
          "text": [
            "Label: 0\n"
          ]
        }
      ]
    },
    {
      "cell_type": "code",
      "metadata": {
        "colab": {
          "base_uri": "https://localhost:8080/"
        },
        "id": "ugFHiyp5rS6K",
        "outputId": "a341593b-2bc7-4b24-b102-95036c28bdc1"
      },
      "source": [
        "for X, y in train_dataloader:\n",
        "  print(\"Shape of X [N, C, H, W] : \", X.shape)\n",
        "  print(\"Shape of y : \", y.shape)\n",
        "  break"
      ],
      "execution_count": 24,
      "outputs": [
        {
          "output_type": "stream",
          "name": "stdout",
          "text": [
            "Shape of X [N, C, H, W] :  torch.Size([64, 1, 28, 28])\n",
            "Shape of y :  torch.Size([64])\n"
          ]
        }
      ]
    },
    {
      "cell_type": "code",
      "metadata": {
        "colab": {
          "base_uri": "https://localhost:8080/"
        },
        "id": "uEzlw4XUrHR4",
        "outputId": "740d5b6c-5b12-4d14-bde4-db8f71f9ed41"
      },
      "source": [
        "for X, y in test_dataloader:\n",
        "  print(\"Shape of X [N, C, H, W] : \", X.shape)\n",
        "  print(\"Shape of y : \", y.shape)\n",
        "  break"
      ],
      "execution_count": 27,
      "outputs": [
        {
          "output_type": "stream",
          "name": "stdout",
          "text": [
            "Shape of X [N, C, H, W] :  torch.Size([64, 1, 28, 28])\n",
            "Shape of y :  torch.Size([64])\n"
          ]
        }
      ]
    },
    {
      "cell_type": "markdown",
      "metadata": {
        "id": "gqV02HE9g0T5"
      },
      "source": [
        "# Important Links\n",
        "[Three Ways to Build a Neural Network in PyTorch](https://towardsdatascience.com/three-ways-to-build-a-neural-network-in-pytorch-8cea49f9a61a)\n",
        "\n",
        "[PyTorch For Deep Learning — nn.Linear and nn.ReLU Explained](https://ashwinhprasad.medium.com/pytorch-for-deep-learning-nn-linear-and-nn-relu-explained-77f3e1007dbb)"
      ]
    },
    {
      "cell_type": "code",
      "metadata": {
        "id": "TKPV_ederK8e",
        "colab": {
          "base_uri": "https://localhost:8080/"
        },
        "outputId": "b2dc0062-f3dc-4352-e949-0df888f875cb"
      },
      "source": [
        "# Define model\n",
        "# To define a neural network in PyTorch, we create a class that inherits from nn.Module.\n",
        "\n",
        "# very similar approach to Keras’s sequential API and leverages the torch.nn pre-built layers and activation functions. \n",
        "\n",
        "class NeuralNetwork(nn.Module):\n",
        "    # We define the layers of the network in the __init__ function.\n",
        "    def __init__(self):\n",
        "        super(NeuralNetwork, self).__init__()\n",
        "        self.flatten = nn.Flatten()\n",
        "        self.linear_relu_stack = nn.Sequential(\n",
        "            nn.Linear(28*28, 512),\n",
        "            nn.ReLU(),\n",
        "            nn.Linear(512, 512),\n",
        "            nn.ReLU(),\n",
        "            nn.Linear(512, 10)\n",
        "        )\n",
        "    # specify how data will pass through the network in the forward function.\n",
        "    def forward(self, x):\n",
        "        x = self.flatten(x)\n",
        "        logits = self.linear_relu_stack(x)\n",
        "        return logits\n",
        "\n",
        "model = NeuralNetwork().to(device)\n",
        "# To accelerate operations in the neural network, we move it to the GPU if available.\n",
        "print(model)"
      ],
      "execution_count": 28,
      "outputs": [
        {
          "output_type": "stream",
          "name": "stdout",
          "text": [
            "NeuralNetwork(\n",
            "  (flatten): Flatten(start_dim=1, end_dim=-1)\n",
            "  (linear_relu_stack): Sequential(\n",
            "    (0): Linear(in_features=784, out_features=512, bias=True)\n",
            "    (1): ReLU()\n",
            "    (2): Linear(in_features=512, out_features=512, bias=True)\n",
            "    (3): ReLU()\n",
            "    (4): Linear(in_features=512, out_features=10, bias=True)\n",
            "  )\n",
            ")\n"
          ]
        }
      ]
    },
    {
      "cell_type": "code",
      "metadata": {
        "id": "SZ1EZrE07Vfs"
      },
      "source": [
        "# To train a model, we need a loss function and an optimizer.\n",
        "loss_fn = nn.CrossEntropyLoss()\n",
        "optimizer = torch.optim.SGD(model.parameters(), lr=1e-3)"
      ],
      "execution_count": null,
      "outputs": []
    },
    {
      "cell_type": "code",
      "metadata": {
        "id": "AWCElOMpwoLZ"
      },
      "source": [
        "# In a single training loop, the model makes predictions on the training dataset (fed to it in batches), and \n",
        "# backpropagates the prediction error to adjust the model’s parameters.\n",
        "def train(dataloader, model, loss_fn, optimizer):\n",
        "    size = len(dataloader.dataset)\n",
        "    model.train()\n",
        "    for batch, (X, y) in enumerate(dataloader):\n",
        "        X, y = X.to(device), y.to(device)\n",
        "\n",
        "        # Compute prediction error\n",
        "        pred = model(X)\n",
        "        loss = loss_fn(pred, y)\n",
        "\n",
        "        # Backpropagation\n",
        "        optimizer.zero_grad()\n",
        "        loss.backward()\n",
        "        optimizer.step()\n",
        "\n",
        "        if batch % 100 == 0:\n",
        "            loss, current = loss.item(), batch * len(X)\n",
        "            print(f\"loss: {loss:>7f}  [{current:>5d}/{size:>5d}]\")"
      ],
      "execution_count": null,
      "outputs": []
    },
    {
      "cell_type": "code",
      "metadata": {
        "id": "wq_VEN6Awtkj"
      },
      "source": [
        "# We also check the model’s performance against the test dataset to ensure it is learning\n",
        "def test(dataloader, model, loss_fn):\n",
        "    size = len(dataloader.dataset)\n",
        "    num_batches = len(dataloader)\n",
        "    model.eval()\n",
        "    test_loss, correct = 0, 0\n",
        "    with torch.no_grad():\n",
        "        for X, y in dataloader:\n",
        "            X, y = X.to(device), y.to(device)\n",
        "            pred = model(X)\n",
        "            test_loss += loss_fn(pred, y).item()\n",
        "            correct += (pred.argmax(1) == y).type(torch.float).sum().item()\n",
        "    test_loss /= num_batches\n",
        "    correct /= size\n",
        "    print(f\"Test Error: \\n Accuracy: {(100*correct):>0.1f}%, Avg loss: {test_loss:>8f} \\n\")"
      ],
      "execution_count": null,
      "outputs": []
    },
    {
      "cell_type": "code",
      "metadata": {
        "colab": {
          "base_uri": "https://localhost:8080/"
        },
        "id": "GOs0mB2FwxpQ",
        "outputId": "1059461d-732f-4f71-9d89-54c4a41c90b6"
      },
      "source": [
        "epochs = 5\n",
        "for t in range(epochs):\n",
        "    print(f\"Epoch {t+1}\\n-------------------------------\")\n",
        "    train(train_dataloader, model, loss_fn, optimizer)\n",
        "    test(test_dataloader, model, loss_fn)\n",
        "print(\"Done!\")"
      ],
      "execution_count": null,
      "outputs": [
        {
          "output_type": "stream",
          "name": "stdout",
          "text": [
            "Epoch 1\n",
            "-------------------------------\n",
            "loss: 2.303516  [    0/60000]\n",
            "loss: 2.295898  [ 6400/60000]\n",
            "loss: 2.275151  [12800/60000]\n",
            "loss: 2.267922  [19200/60000]\n",
            "loss: 2.243788  [25600/60000]\n",
            "loss: 2.217934  [32000/60000]\n",
            "loss: 2.231213  [38400/60000]\n",
            "loss: 2.192287  [44800/60000]\n",
            "loss: 2.194137  [51200/60000]\n",
            "loss: 2.159522  [57600/60000]\n",
            "Test Error: \n",
            " Accuracy: 42.3%, Avg loss: 2.152790 \n",
            "\n",
            "Epoch 2\n",
            "-------------------------------\n",
            "loss: 2.164046  [    0/60000]\n",
            "loss: 2.156286  [ 6400/60000]\n",
            "loss: 2.100558  [12800/60000]\n",
            "loss: 2.108981  [19200/60000]\n",
            "loss: 2.053401  [25600/60000]\n",
            "loss: 2.003397  [32000/60000]\n",
            "loss: 2.026877  [38400/60000]\n",
            "loss: 1.947810  [44800/60000]\n",
            "loss: 1.957150  [51200/60000]\n",
            "loss: 1.883614  [57600/60000]\n",
            "Test Error: \n",
            " Accuracy: 51.6%, Avg loss: 1.875428 \n",
            "\n",
            "Epoch 3\n",
            "-------------------------------\n",
            "loss: 1.912620  [    0/60000]\n",
            "loss: 1.883439  [ 6400/60000]\n",
            "loss: 1.766359  [12800/60000]\n",
            "loss: 1.796175  [19200/60000]\n",
            "loss: 1.690723  [25600/60000]\n",
            "loss: 1.652179  [32000/60000]\n",
            "loss: 1.668923  [38400/60000]\n",
            "loss: 1.568894  [44800/60000]\n",
            "loss: 1.597499  [51200/60000]\n",
            "loss: 1.494814  [57600/60000]\n",
            "Test Error: \n",
            " Accuracy: 59.2%, Avg loss: 1.504336 \n",
            "\n",
            "Epoch 4\n",
            "-------------------------------\n",
            "loss: 1.572248  [    0/60000]\n",
            "loss: 1.538068  [ 6400/60000]\n",
            "loss: 1.387839  [12800/60000]\n",
            "loss: 1.453962  [19200/60000]\n",
            "loss: 1.341854  [25600/60000]\n",
            "loss: 1.342329  [32000/60000]\n",
            "loss: 1.353475  [38400/60000]\n",
            "loss: 1.277524  [44800/60000]\n",
            "loss: 1.314730  [51200/60000]\n",
            "loss: 1.220255  [57600/60000]\n",
            "Test Error: \n",
            " Accuracy: 63.0%, Avg loss: 1.239696 \n",
            "\n",
            "Epoch 5\n",
            "-------------------------------\n",
            "loss: 1.315898  [    0/60000]\n",
            "loss: 1.297848  [ 6400/60000]\n",
            "loss: 1.132366  [12800/60000]\n",
            "loss: 1.234737  [19200/60000]\n",
            "loss: 1.117219  [25600/60000]\n",
            "loss: 1.143262  [32000/60000]\n",
            "loss: 1.162969  [38400/60000]\n",
            "loss: 1.100359  [44800/60000]\n",
            "loss: 1.140991  [51200/60000]\n",
            "loss: 1.065147  [57600/60000]\n",
            "Test Error: \n",
            " Accuracy: 64.8%, Avg loss: 1.077684 \n",
            "\n",
            "Done!\n"
          ]
        }
      ]
    },
    {
      "cell_type": "code",
      "metadata": {
        "colab": {
          "base_uri": "https://localhost:8080/"
        },
        "id": "vVD-KICTxPUW",
        "outputId": "102bccbc-75a1-40c5-de98-5302e184d399"
      },
      "source": [
        "# save a model is to serialize the internal state dictionary (containing the model parameters).\n",
        "torch.save(model.state_dict(), \"model.pth\")\n",
        "print(\"Saved PyTorch Model State to model.pth\")"
      ],
      "execution_count": null,
      "outputs": [
        {
          "output_type": "stream",
          "name": "stdout",
          "text": [
            "Saved PyTorch Model State to model.pth\n"
          ]
        }
      ]
    },
    {
      "cell_type": "code",
      "metadata": {
        "colab": {
          "base_uri": "https://localhost:8080/"
        },
        "id": "DuQZxXjlxYYv",
        "outputId": "66150c48-3216-4647-e7d0-66b3c23b567d"
      },
      "source": [
        "# loading a model includes re-creating the model structure and loading the state dictionary into it.\n",
        "model = NeuralNetwork()\n",
        "model.load_state_dict(torch.load(\"model.pth\"))"
      ],
      "execution_count": null,
      "outputs": [
        {
          "output_type": "execute_result",
          "data": {
            "text/plain": [
              "<All keys matched successfully>"
            ]
          },
          "metadata": {},
          "execution_count": 16
        }
      ]
    },
    {
      "cell_type": "code",
      "metadata": {
        "colab": {
          "base_uri": "https://localhost:8080/"
        },
        "id": "2RlBpUrZxbH1",
        "outputId": "99fd11da-3697-4920-cd2f-73249f592ed6"
      },
      "source": [
        "classes = [\n",
        "    \"T-shirt/top\",\n",
        "    \"Trouser\",\n",
        "    \"Pullover\",\n",
        "    \"Dress\",\n",
        "    \"Coat\",\n",
        "    \"Sandal\",\n",
        "    \"Shirt\",\n",
        "    \"Sneaker\",\n",
        "    \"Bag\",\n",
        "    \"Ankle boot\",\n",
        "]\n",
        "\n",
        "model.eval()\n",
        "x, y = test_data[100][0], test_data[100][1]\n",
        "with torch.no_grad():\n",
        "    pred = model(x)\n",
        "    predicted, actual = classes[pred[0].argmax(0)], classes[y]\n",
        "    print(f'Predicted: \"{predicted}\", Actual: \"{actual}\"')"
      ],
      "execution_count": null,
      "outputs": [
        {
          "output_type": "stream",
          "name": "stdout",
          "text": [
            "Predicted: \"Dress\", Actual: \"Dress\"\n"
          ]
        }
      ]
    },
    {
      "cell_type": "code",
      "metadata": {
        "id": "cNnWrX9Sxe6E"
      },
      "source": [
        ""
      ],
      "execution_count": null,
      "outputs": []
    }
  ]
}